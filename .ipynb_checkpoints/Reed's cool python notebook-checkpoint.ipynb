{
 "cells": [
  {
   "cell_type": "code",
   "execution_count": 3,
   "metadata": {
    "scrolled": true
   },
   "outputs": [],
   "source": [
    "import verse\n",
    "import corpus\n",
    "import generate_sample\n",
    "import phonetic\n",
    "import rhymetools\n",
    "import matplotlib.pyplot as plt\n",
    "import importlib\n",
    "import numpy as np\n",
    "\n",
    "dictionary = phonetic.PhoneticDictionary()"
   ]
  },
  {
   "cell_type": "code",
   "execution_count": 13,
   "metadata": {
    "scrolled": false
   },
   "outputs": [
    {
     "name": "stdout",
     "output_type": "stream",
     "text": [
      "How does a bastard, orphan, son of a whore and a scotsman, dropped in the middle of a forgotten spot in the caribbean by providence, impoverished, in squalor, grow up to be a hero and a scholar?\n",
      "\n",
      "Template length:  53 syllables, 37 words\n",
      "\n",
      "Template:\n",
      "How does a bastard, orphan, son of a whore and a scotsman, dropped in the middle of a forgotten spot in the caribbean by providence, impoverished, in squalor, grow up to be a hero and a scholar?\n",
      "\n",
      "Stress pattern:\n",
      " #  #  /  #  /,  #  /,  #  #  /  #  /  /  #  /,  #  /  /  #  /  #  /  /  #  /  #  /  /  /  #  /  /  #  #  /  /,  /  #  /,  /  #  /,  #  #  #  #  /  #  /  /  /  #  /, \n",
      "\n",
      "Desired number of match pairs: 5.0\n",
      "\n",
      "Number of nonzero indices: 236\n",
      "\n",
      "Percentile for cutoff: 98.0\n",
      "Cutoff score:  0.9533233539410668\n",
      "\n",
      "Pairs to match (7):\n",
      "  95.9 % match: syllable 2 of orphan + syllable 3 of forgotten \n",
      "\t 6 , 24\n",
      "  96.7 % match: syllable 2 of scotsman + syllable 3 of forgotten \n",
      "\t 14 , 24\n",
      "  95.8 % match: syllable 2 of forgotten + syllable 1 of spot \n",
      "\t 23 , 25\n",
      "  95.3 % match: syllable 1 of caribbean + syllable 2 of squalor \n",
      "\t 28 , 41\n",
      "  95.3 % match: syllable 1 of caribbean + syllable 2 of scholar \n",
      "\t 28 , 52\n",
      "  96.3 % match: syllable 1 of squalor + syllable 1 of scholar \n",
      "\t 40 , 51\n",
      "  100.0 % match: syllable 2 of squalor + syllable 2 of scholar \n",
      "\t 41 , 52\n"
     ]
    },
    {
     "data": {
      "image/png": "[encoded data removed]",
      "text/plain": [
       "<matplotlib.figure.Figure at 0x10e9219e8>"
      ]
     },
     "metadata": {},
     "output_type": "display_data"
    }
   ],
   "source": [
    "importlib.reload(phonetic)\n",
    "importlib.reload(verse)\n",
    "importlib.reload(rhymetools)\n",
    "\n",
    "for i in [1]:\n",
    "    \n",
    "    print(verse.get_sample(i))\n",
    "    verse_template = verse.VerseTemplate(verse.get_sample(i), dictionary, breakrules=\"phrase\") \n",
    "    verse_template.add_unknowns(\"logios_output/g2p.txt\")\n",
    "    \n",
    "    verse_template.get_rhyme(verbose=True)\n",
    "    \n",
    "    plt.spy(verse_template.rhyme_matrix)\n",
    "    plt.show()\n",
    "    \n",
    "    break"
   ]
  },
  {
   "cell_type": "code",
   "execution_count": 22,
   "metadata": {
    "scrolled": true
   },
   "outputs": [
    {
     "name": "stdout",
     "output_type": "stream",
     "text": [
      "\"dawg\" not in dictionary\n",
      "\"trigonometry\" not in dictionary\n",
      "Input text: 11 words, 8 unique\n",
      "\n",
      "[phonetic.Word(\"alexander\" AE2 L AH0 G Z AE1 N D ER0 ), phonetic.Word(\"hamilton\" HH AE1 M AH0 L T AH0 N ), phonetic.Word(\"my\" M AY1 ), None, phonetic.Word(\"is\" IH1 Z ), phonetic.Word(\"he\" HH IY1 ), phonetic.Word(\"studies\" S T AH1 D IY0 Z ), None]\n",
      "[0 1 2 3 4 0 1 5 6 7 3]\n",
      "\n",
      "[phonetic.Word(\"alexander\" AE2 L AH0 G Z AE1 N D ER0 ), phonetic.Word(\"hamilton\" HH AE1 M AH0 L T AH0 N ), phonetic.Word(\"my\" M AY1 ), phonetic.Word(\"dawg\" D AO0 G ), phonetic.Word(\"is\" IH1 Z ), phonetic.Word(\"he\" HH IY1 ), phonetic.Word(\"studies\" S T AH1 D IY0 Z ), phonetic.Word(\"trigonometry\" T R IH0 G AH0 N AH0 M EH0 T R IY0 )]\n",
      "\n",
      "{'alexander': 0, 'hamilton': 1, 'my': 2, 'dawg': 3, 'is': 4, 'he': 5, 'studies': 6, 'trigonometry': 7}\n",
      "\n",
      "{'AE': [(0, 0), (0, 5), (1, 1)], 'AH': [(0, 2), (1, 3), (1, 6), (6, 2), (7, 4), (7, 6)], 'ER': [(0, 8)], 'AY': [(2, 1)], 'AO': [(3, 1)], 'IH': [(4, 0), (7, 2)], 'IY': [(5, 1), (6, 4), (7, 11)], 'EH': [(7, 8)]}\n"
     ]
    }
   ],
   "source": [
    "importlib.reload(phonetic)\n",
    "importlib.reload(verse)\n",
    "importlib.reload(rhymetools)\n",
    "importlib.reload(corpus)\n",
    "\n",
    "corp = corpus.WordCorpus(dictionary)\n",
    "corp.initialize(verse.get_sample(5), is_filename=False)\n",
    "print()\n",
    "print(corp.wordList)\n",
    "print(corp.wordSeq)\n",
    "corp.add_unknowns(\"logios_output/g2p.txt\")\n",
    "print()\n",
    "print(corp.wordList)\n",
    "corp.initializeMatrix()\n",
    "print()\n",
    "print(corp.wordDict)\n",
    "corp.initializeSylDict()\n",
    "print()\n",
    "print(corp.sylDict)\n",
    "\n"
   ]
  },
  {
   "cell_type": "code",
   "execution_count": 5,
   "metadata": {
    "scrolled": true
   },
   "outputs": [
    {
     "name": "stdout",
     "output_type": "stream",
     "text": [
      "Corpus text: 35 words, 28 unique\n",
      "AH [(0, 0), (2, 0), (9, 0), (11, 1), (14, 0), (18, 0)]\n",
      "IY [(0, 1), (10, 0), (12, 0)]\n",
      "UH [(1, 0)]\n",
      "OY [(3, 0), (6, 0)]\n",
      "EY [(4, 0), (7, 0), (15, 0), (21, 0), (22, 1), (27, 0)]\n",
      "IH [(5, 0), (7, 1), (8, 0), (22, 0), (23, 0), (23, 1)]\n",
      "AA [(11, 0), (17, 0), (19, 0)]\n",
      "AE [(13, 0), (24, 0)]\n",
      "UW [(16, 0)]\n",
      "AO [(20, 0), (25, 0)]\n",
      "OW [(26, 0)]\n",
      "ER [(26, 1)]\n",
      "Nonzero indices in rhyme matrix:\n",
      "rows:  [ 0  9 27 27 31]\n",
      "cols:  [24 21 31 40 40]\n",
      "\n",
      "(\"buddy\" B AH1 D IY0 )\n",
      "(\"you're\" Y UH1 R )\n",
      "(\"a\" AH0 )\n",
      "(\"boy\" B OY1 )\n",
      "(\"make\" M EY1 K )\n",
      "(\"big\" B IH1 G )\n",
      "(\"noise\" N OY1 Z )\n",
      "(\"playing\" P L EY1 IH0 NG )\n",
      "(\"in\" IH0 N )\n",
      "(\"the\" DH AH0 )\n",
      "(\"street\" S T R IY1 T )\n",
      "(\"gonna\" G AA1 N AH0 )\n",
      "(\"be\" B IY1 )\n",
      "(\"man\" M AE1 N )\n",
      "(\"some\" S AH1 M )\n",
      "(\"day\" D EY1 )\n",
      "(\"you\" Y UW1 )\n",
      "(\"got\" G AA1 T )\n",
      "(\"mud\" M AH1 D )\n",
      "(\"on\" AA1 N )\n",
      "(\"your\" Y AO1 R )\n",
      "(\"face\" F EY1 S )\n",
      "(\"disgrace\" D IH0 S G R EY1 S )\n",
      "(\"kicking\" K IH1 K IH0 NG )\n",
      "(\"can\" K AE1 N )\n",
      "(\"all\" AO1 L )\n",
      "(\"over\" OW1 V ER0 )\n",
      "(\"place\" P L EY1 S )\n",
      "First word ( from row  0 ):  buddy\n",
      "First word phoneme:  AH\n",
      "[(0, 0), (2, 0), (9, 0), (11, 1), (14, 0), (18, 0)]\n",
      "0 (\"buddy\" B AH1 D IY0 )\n",
      "2 (\"a\" AH0 )\n",
      "9 (\"the\" DH AH0 )\n",
      "11 (\"gonna\" G AA1 N AH0 )\n",
      "14 (\"some\" S AH1 M )\n",
      "18 (\"mud\" M AH1 D )\n"
     ]
    }
   ],
   "source": [
    "importlib.reload(phonetic)\n",
    "importlib.reload(corpus)\n",
    "\n",
    "verse_template = verse.VerseTemplate(verse.get_sample(4), dictionary, breakrules=\"phrase\") \n",
    "verse_template.add_unknowns(\"logios_output/g2p.txt\")\n",
    "\n",
    "verse_template.get_rhyme()\n",
    "\n",
    "\n",
    "corp = corpus.WordCorpus(dictionary)\n",
    "corp.initialize(verse.get_sample(4), is_filename=False)\n",
    "corp.initializeSylDict()\n",
    "for key in corp.sylDict.keys():\n",
    "    print(key, corp.sylDict[key])\n",
    "\n",
    "# help(phonetic)\n",
    "# get syllable lists from rhyme pairs from the matrix\n",
    "print(\"Nonzero indices in rhyme matrix:\")\n",
    "syl_list_1, syl_list_2 = np.nonzero(verse_template.rhyme_matrix)\n",
    "num_pairs = len(syl_list_1)\n",
    "print(\"rows: \", syl_list_1)\n",
    "print(\"cols: \", syl_list_2)\n",
    "print()\n",
    "\n",
    "for i in range(len(corp.wordList)):\n",
    "    print(corp.wordList[i])\n",
    "\n",
    "for i in range(num_pairs):\n",
    "    word_1 = verse_template.wordList[verse_template.matrix_indices[i][0]]\n",
    "    word_1_phoneme = word_1.vowel_at(verse_template.matrix_indices[i][1])\n",
    "    word_1_phoneme = word_1_phoneme[:-1] # strip stress indicator\n",
    "    \n",
    "    print(\"First word ( from row \", syl_list_1[i], \"): \", word_1.stringRepr)\n",
    "    print(\"First word phoneme: \", word_1_phoneme)\n",
    "    \n",
    "    second_word_syl_options = corp.sylDict[word_1_phoneme]\n",
    "    print(second_word_syl_options)\n",
    "    \n",
    "    for j in range(len(second_word_syl_options)):\n",
    "        second_word_idx = second_word_syl_options[j][0]\n",
    "        print(second_word_idx, corp.wordList[second_word_idx])\n",
    "    break\n"
   ]
  },
  {
   "cell_type": "code",
   "execution_count": 28,
   "metadata": {},
   "outputs": [],
   "source": [
    "# quick script to pull the shakespeare text from nltk source\n",
    "\n",
    "import os\n",
    "from bs4 import BeautifulSoup\n",
    "files = os.listdir(\"data/xml\")[1:] # remove .DS_STORE\n",
    "for file in files:\n",
    "    with open(\"data/xml/\" + file, \"r\") as f:\n",
    "        soup = BeautifulSoup(f, \"xml\")\n",
    "        lines = soup.findAll(\"LINE\")\n",
    "        newfile = \"data/shakespeare/\" + file.replace(\".xml\", \".txt\")\n",
    "        with open(newfile, \"w\") as new:\n",
    "            for line in lines:\n",
    "                try:\n",
    "                    new.write(line.string + \"\\n\")\n",
    "                except:\n",
    "                    pass"
   ]
  },
  {
   "cell_type": "code",
   "execution_count": 44,
   "metadata": {
    "scrolled": false
   },
   "outputs": [],
   "source": [
    "corp = corpus.WordCorpus(dictionary)\n",
    "# corp.initialize(\"data/shakespeare/a_and_c.txt\", is_filename=True)"
   ]
  },
  {
   "cell_type": "code",
   "execution_count": 50,
   "metadata": {
    "scrolled": true
   },
   "outputs": [
    {
     "name": "stdout",
     "output_type": "stream",
     "text": [
      "unknowns filename: corpus_unknowns.txt\n",
      "Corpus text: 48 words, 32 unique\n",
      "Unknown words successfully added\n",
      "\n",
      "Template length:  55 syllables, 48 words\n",
      "\n",
      "Template:\n",
      " buddy you're a boy make a big noise, playing in the street, \tgonna be a big man some day, you got mud on your face, you big disgrace, \tkicking your can all over the place, singing, we will, we will, rock you, \twe will, we will, rock you\n",
      "\n",
      "Stress pattern:\n",
      " [1 0 1 0 1 1 0 1 1 1 0 0 0 1 1 0 1 0 1 1 1 1 1 1 1 1 1 1 1 1 0 1 1 0 1 1 1\n",
      " 1 0 0 1 1 0 1 1 1 1 1 1 1 1 1 1 1 1]\n",
      "\n",
      "Percentile for cutoff: 99.0\n",
      "Nonzeros before cutoff: 638\n",
      "Cutoff score:  0.9547293883007488\n",
      "\n",
      "Pairs to match (7):\n",
      "  96.2 % match: syllable 1 of buddy + syllable 1 of mud\n",
      "  95.8 % match: syllable 1 of playing + syllable 1 of day\n",
      "  95.5 % match: syllable 1 of be + syllable 1 of we\n",
      "  95.5 % match: syllable 1 of be + syllable 1 of we\n",
      "  96.1 % match: syllable 1 of face + syllable 2 of disgrace\n",
      "  95.9 % match: syllable 1 of face + syllable 1 of place\n",
      "  96.7 % match: syllable 2 of disgrace + syllable 1 of place\n",
      "Filling phoneme:  EY\n",
      "Filling phoneme:  EY\n",
      "Filling phoneme:  AO\n",
      "Filling phoneme:  IY\n",
      "Filling phoneme:  IY\n",
      "Filling phoneme:  EY\n",
      "All full\n",
      "day / # / # # / # # day / / / # # / your / # # # make # # make # # be # # / be # / # # # # / / day # / all # street # # # # # # # # # \n"
     ]
    }
   ],
   "source": [
    "importlib.reload(verse)\n",
    "importlib.reload(corpus)\n",
    "importlib.reload(generate_sample)\n",
    "importlib.reload(phonetic)\n",
    "\n",
    "for i in [4]:\n",
    "    corp = corpus.WordCorpus(dictionary)\n",
    "    corp.initialize(verse.get_sample(i), is_filename=False)\n",
    "    corp.initializeMatrix()\n",
    "    corp.initializeSylDict()\n",
    "    \"\"\"\n",
    "    for idx, word in enumerate(corp.wordList):\n",
    "         print(idx, word)\n",
    "    print(corp.sylDict)\n",
    "    \"\"\"\n",
    "    \n",
    "    text = verse.get_sample(i)\n",
    "    vt = verse.VerseTemplate(verse.get_sample(i), dictionary, breakrules=\"phrase\") \n",
    "    vt.add_unknowns(\"logios_output/g2p.txt\")\n",
    "    vt.get_rhyme(verbose=True)\n",
    "    \n",
    "    \n",
    "\n",
    "    generate_sample.fill_rhymes(corp, vt)\n",
    "    break"
   ]
  },
  {
   "cell_type": "code",
   "execution_count": 48,
   "metadata": {
    "scrolled": false
   },
   "outputs": [
    {
     "data": {
      "text/plain": [
       "'a'"
      ]
     },
     "execution_count": 48,
     "metadata": {},
     "output_type": "execute_result"
    }
   ],
   "source": [
    "lst = [\"a\", \"b\", \"c\", \"d\"]\n",
    "probs = [.25, .25, .35, .15]\n",
    "np.random.choice(lst, p=probs)\n"
   ]
  },
  {
   "cell_type": "code",
   "execution_count": null,
   "metadata": {},
   "outputs": [],
   "source": []
  },
  {
   "cell_type": "code",
   "execution_count": null,
   "metadata": {},
   "outputs": [],
   "source": []
  }
 ],
 "metadata": {
  "kernelspec": {
   "display_name": "Python 3",
   "language": "python",
   "name": "python3"
  },
  "language_info": {
   "codemirror_mode": {
    "name": "ipython",
    "version": 3
   },
   "file_extension": ".py",
   "mimetype": "text/x-python",
   "name": "python",
   "nbconvert_exporter": "python",
   "pygments_lexer": "ipython3",
   "version": "3.6.3"
  }
 },
 "nbformat": 4,
 "nbformat_minor": 1
}
