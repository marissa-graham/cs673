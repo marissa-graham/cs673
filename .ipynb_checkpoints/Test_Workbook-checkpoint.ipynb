{
 "cells": [
  {
   "cell_type": "markdown",
   "metadata": {},
   "source": [
    "https://www.python.org/downloads/release/python-364/"
   ]
  },
  {
   "cell_type": "code",
   "execution_count": 5,
   "metadata": {
    "collapsed": false
   },
   "outputs": [],
   "source": [
    "import phonetic\n",
    "import corpus\n",
    "import generate_sample\n",
    "import verse\n",
    "import re\n",
    "import nltk\n",
    "import importlib\n",
    "import string\n",
    "import seaborn\n",
    "import numpy as np\n",
    "from scipy import sparse\n",
    "from matplotlib import pyplot as plt\n",
    "%matplotlib inline"
   ]
  },
  {
   "cell_type": "code",
   "execution_count": 6,
   "metadata": {
    "collapsed": false
   },
   "outputs": [
    {
     "name": "stdout",
     "output_type": "stream",
     "text": [
      "[nltk_data] Downloading package cmudict to\n",
      "[nltk_data]     C:\\Users\\Marissa\\AppData\\Roaming\\nltk_data...\n",
      "[nltk_data]   Package cmudict is already up-to-date!\n",
      "[nltk_data] Downloading package gutenberg to\n",
      "[nltk_data]     C:\\Users\\Marissa\\AppData\\Roaming\\nltk_data...\n",
      "[nltk_data]   Package gutenberg is already up-to-date!\n"
     ]
    }
   ],
   "source": [
    "nltk.download('cmudict')\n",
    "nltk.download('gutenberg')\n",
    "dictionary = phonetic.PhoneticDictionary()\n",
    "dictionary.import_file(\"data/cmudict/cmudict-0.7b\")"
   ]
  },
  {
   "cell_type": "code",
   "execution_count": 79,
   "metadata": {
    "collapsed": false
   },
   "outputs": [
    {
     "name": "stdout",
     "output_type": "stream",
     "text": [
      "Template rhythm:  buddy you're a boy make a big noise, playing in the street, \tgonna be a big man some day, you got mud on your face, you big disgrace, \tkicking your can all over the place, singing, we will, we will, rock you, \twe will, we will, rock you\n",
      "\tNumber of syllables:  55\n",
      "\tRelevant chunk:  [1, 0, 1, 0, 1, 1, 0, 1, 1]\n",
      "\tBreakpoints:  [8, 13, 21, 27, 31, 40, 42, 44, 46, 48, 50, 52]\n",
      "Word rhythm:  [2 0 1 0]\n",
      "\n",
      "\n",
      "[1, 0, 1, 1]\n",
      "loc_inds =  [5 8]\n",
      "[0 0]\n",
      "[False  True  True False]\n",
      "2\n",
      "0.625\n",
      "0.625\n",
      "\n",
      "\n",
      "[1, 0, 1, 1]\n",
      "loc_inds =  [5 8]\n",
      "[0 0]\n",
      "[False  True  True False]\n",
      "2\n",
      "0.625\n",
      "0.625\n"
     ]
    }
   ],
   "source": [
    "importlib.reload(verse)\n",
    "importlib.reload(generate_sample)\n",
    "\n",
    "templatestring = verse.get_sample(4)\n",
    "print(\"Template rhythm: \", templatestring)\n",
    "\n",
    "template = verse.VerseTemplate(templatestring, dictionary, breakrules='phrase')\n",
    "print(\"\\tNumber of syllables: \", len(template.stresses))\n",
    "print(\"\\tRelevant chunk: \",template.stresses[:9])\n",
    "print(\"\\tBreakpoints: \", template.breakpoints)\n",
    "word = dictionary.lookup(\"alexander\")\n",
    "print(\"Word rhythm: \", word.rhythm)\n",
    "\n",
    "print(\"\\n\")\n",
    "print(generate_sample.scansion_score(word, 9-word.length, 4, template, False))\n",
    "print(\"\\n\")\n",
    "print(generate_sample.scansion_score(word, 5, 12, template, True))"
   ]
  },
  {
   "cell_type": "code",
   "execution_count": 152,
   "metadata": {
    "collapsed": false
   },
   "outputs": [
    {
     "name": "stdout",
     "output_type": "stream",
     "text": [
      "Input text: 190529 words, 7096 unique\n"
     ]
    }
   ],
   "source": [
    "corp = corpus.WordCorpus(dictionary)\n",
    "emma = nltk.corpus.gutenberg.words('austen-emma.txt')\n",
    "emma = \" \".join(emma)\n",
    "corp.initialize(emma, is_filename=False)"
   ]
  },
  {
   "cell_type": "code",
   "execution_count": 121,
   "metadata": {
    "collapsed": false
   },
   "outputs": [
    {
     "name": "stdout",
     "output_type": "stream",
     "text": [
      "Template rhythm:  How does a bastard, orphan, son of a whore and a scotsman, dropped \tin the middle of a forgotten spot in the caribbean in providence impoverished \tin squalor, grow up to be a hero and a scholar?\n",
      "\n",
      "Sample:  i have a very handsome i was a most she had rather i have i never to the idea jane jane the daDADAda and DAdada DADAda her very much i was i had longer i had only\n"
     ]
    }
   ],
   "source": [
    "template = verse.get_sample(1)\n",
    "print(\"Template rhythm: \", template)\n",
    "\n",
    "wordlengths, rhythm = get_rhythm_string(template, dictionary)\n",
    "print(\"\\nSample: \", generate_sample.generate_verse(corp, wordlengths, rhythm))"
   ]
  },
  {
   "cell_type": "code",
   "execution_count": 47,
   "metadata": {
    "collapsed": false
   },
   "outputs": [
    {
     "name": "stdout",
     "output_type": "stream",
     "text": [
      "Corpus text: 547 words, 256 unique\n",
      "Need to add 0 words using LOGIOS\n",
      "\n",
      "Template length:  53 syllables, 37 words\n",
      "\n",
      "Template:\n",
      " How does a bastard, orphan, son of a whore and a scotsman, dropped \tin the middle of a forgotten spot in the caribbean in providence \timpoverished in squalor, grow up to be a hero and a scholar?\n",
      "\n",
      "Stress pattern:\n",
      " [1 1 0 1 0 1 0 1 1 0 1 0 0 1 0 1 0 0 1 0 1 0 0 1 0 1 0 0 0 1 0 0 0 1 0 0 0\n",
      " 1 0 0 1 0 1 1 1 1 0 1 0 0 0 1 0]\n",
      "\n",
      "Percentile for cutoff: 98.0\n",
      "Nonzeros before cutoff: 236\n",
      "Cutoff score:  0.9533233539410668\n",
      "\n",
      "Pairs to match (7):\n",
      "  95.9 % match: syllable 2 of orphan + syllable 3 of forgotten\n",
      "  96.7 % match: syllable 2 of scotsman + syllable 3 of forgotten\n",
      "  95.8 % match: syllable 2 of forgotten + syllable 1 of spot\n",
      "  95.3 % match: syllable 1 of caribbean + syllable 2 of squalor\n",
      "  95.3 % match: syllable 1 of caribbean + syllable 2 of scholar\n",
      "  96.3 % match: syllable 1 of squalor + syllable 1 of scholar\n",
      "  100.0 % match: syllable 2 of squalor + syllable 2 of scholar\n"
     ]
    },
    {
     "data": {
      "image/png": "[encoded data removed]",
      "text/plain": [
       "<matplotlib.figure.Figure at 0x2054ac930f0>"
      ]
     },
     "metadata": {},
     "output_type": "display_data"
    }
   ],
   "source": [
    "importlib.reload(corpus)\n",
    "importlib.reload(phonetic)\n",
    "importlib.reload(generate_sample)\n",
    "importlib.reload(verse)\n",
    "\n",
    "corp = corpus.WordCorpus(dictionary)\n",
    "corp.initialize(\"alexander_hamilton.txt\")\n",
    "\n",
    "template = verse.VerseTemplate(verse.get_sample(1), dictionary)\n",
    "template.get_rhyme(verbose=True)\n",
    "plt.spy(template.rhyme_matrix)\n",
    "plt.show()"
   ]
  },
  {
   "cell_type": "code",
   "execution_count": 75,
   "metadata": {
    "collapsed": false
   },
   "outputs": [
    {
     "name": "stdout",
     "output_type": "stream",
     "text": [
      "Need to add 0 words to template word list using LOGIOS tool\n",
      "[1 1 0 1 1 1 0 1 0 1]\n",
      "\n",
      " my mistress eyes are nothing like the sun \n",
      "  x  x  /  lies  x  buffing  x  /  done \n"
     ]
    }
   ],
   "source": [
    "importlib.reload(corpus)\n",
    "importlib.reload(phonetic)\n",
    "importlib.reload(generate_sample)\n",
    "importlib.reload(verse)\n",
    "\n",
    "template_string = \"my mistress eyes are nothing like the sun\"\n",
    "template = verse.VerseTemplate(template_string, dictionary)\n",
    "template.get_rhyme()\n",
    "\n",
    "print(template.stresses)\n",
    "\n",
    "ocupados = np.array([0,0,0,1,0,1,1,0,0,1])\n",
    "mydict = {3:\"lies\", 5:\"buffing\", 9:\"done\"}\n",
    "\n",
    "output = \"\"\n",
    "for i in range(ocupados.size):\n",
    "    if ocupados[i]:\n",
    "        try:\n",
    "            output += \" \" + mydict[i] + \" \"\n",
    "        except KeyError:\n",
    "            pass\n",
    "    else:\n",
    "        if template.stresses[i] == 0:\n",
    "            output += \" / \"\n",
    "        else:\n",
    "            output += \" x \"\n",
    "print('\\n', template_string, '\\n',output)"
   ]
  },
  {
   "cell_type": "code",
   "execution_count": null,
   "metadata": {
    "collapsed": true
   },
   "outputs": [],
   "source": []
  }
 ],
 "metadata": {
  "kernelspec": {
   "display_name": "Python 3",
   "language": "python",
   "name": "python3"
  },
  "language_info": {
   "codemirror_mode": {
    "name": "ipython",
    "version": 3
   },
   "file_extension": ".py",
   "mimetype": "text/x-python",
   "name": "python",
   "nbconvert_exporter": "python",
   "pygments_lexer": "ipython3",
   "version": "3.6.2"
  }
 },
 "nbformat": 4,
 "nbformat_minor": 1
}
