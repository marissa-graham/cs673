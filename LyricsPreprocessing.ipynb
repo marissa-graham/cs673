{
 "cells": [
  {
   "cell_type": "markdown",
   "metadata": {},
   "source": [
    "# Preparing lyrics to be used in the corpus"
   ]
  },
  {
   "cell_type": "markdown",
   "metadata": {},
   "source": [
    "### Preparing the hamilton lyrics\n",
    "\n",
    "The lyrics would original contain extra information such as the current singer, usually noted in brackets or in all caps. We don't want to train on these words so we eliminate them here."
   ]
  },
  {
   "cell_type": "code",
   "execution_count": 50,
   "metadata": {
    "scrolled": true
   },
   "outputs": [
    {
     "name": "stdout",
     "output_type": "stream",
     "text": [
      "lyrics/hamilton/processed/AlexanderHamilton.txt\n",
      "lyrics/hamilton/processed/AaronBurrSir.txt\n",
      "lyrics/hamilton/processed/MyShot.txt\n",
      "lyrics/hamilton/processed/TheStoryOfTonight.txt\n",
      "lyrics/hamilton/processed/TheSchuylerSisters.txt\n",
      "lyrics/hamilton/processed/FarmerRefuted.txt\n",
      "lyrics/hamilton/processed/YoullBeBack.txt\n",
      "lyrics/hamilton/processed/RightHandMan.txt\n",
      "lyrics/hamilton/processed/AWintersBall.txt\n",
      "lyrics/hamilton/processed/Helpless.txt\n",
      "lyrics/hamilton/processed/Satisfied.txt\n",
      "lyrics/hamilton/processed/TheStoryofTonightReprise.txt\n",
      "lyrics/hamilton/processed/WaitForIt.txt\n",
      "lyrics/hamilton/processed/StayAlive.txt\n",
      "lyrics/hamilton/processed/TenDuelCommandments.txt\n",
      "lyrics/hamilton/processed/MeetMeInside.txt\n",
      "lyrics/hamilton/processed/ThatWouldBeEnough.txt\n",
      "lyrics/hamilton/processed/GunsandShips.txt\n",
      "lyrics/hamilton/processed/HistoryHasItsEyesOnYou.txt\n",
      "lyrics/hamilton/processed/YorktownTheWorldTurnedUpsideDown.txt\n",
      "lyrics/hamilton/processed/WhatComesNext.txt\n",
      "lyrics/hamilton/processed/DearTheodosia.txt\n",
      "lyrics/hamilton/processed/NonStop.txt\n",
      "lyrics/hamilton/processed/WhatdIMiss.txt\n",
      "lyrics/hamilton/processed/CabinetBattle1.txt\n",
      "lyrics/hamilton/processed/TakeABreak.txt\n",
      "lyrics/hamilton/processed/SayNoToThis.txt\n",
      "lyrics/hamilton/processed/TheRoomWhereItHappens.txt\n",
      "lyrics/hamilton/processed/SchuylerDefeated.txt\n",
      "lyrics/hamilton/processed/CabinetBattle2.txt\n",
      "lyrics/hamilton/processed/WashingtonOnYourSide.txt\n",
      "lyrics/hamilton/processed/OneLastTime.txt\n",
      "lyrics/hamilton/processed/IKnowHim.txt\n",
      "lyrics/hamilton/processed/TheAdamsAdministration.txt\n",
      "lyrics/hamilton/processed/WeKnow.txt\n",
      "lyrics/hamilton/processed/Hurricane.txt\n",
      "lyrics/hamilton/processed/TheReynoldsPamphlet.txt\n",
      "lyrics/hamilton/processed/Burn.txt\n",
      "lyrics/hamilton/processed/BlowUsAllAway.txt\n",
      "lyrics/hamilton/processed/StayAliveReprise.txt\n",
      "lyrics/hamilton/processed/ItsQuietUptown.txt\n",
      "lyrics/hamilton/processed/Electionof1800.txt\n",
      "lyrics/hamilton/processed/YourObedientServant.txt\n",
      "lyrics/hamilton/processed/BestofWivesandBestofWomen.txt\n",
      "lyrics/hamilton/processed/TheWorldWasWideEnough.txt\n",
      "lyrics/hamilton/processed/WhoLivesWhoDiesWhoTellsYourStory.txt\n",
      "lyrics/hamilton/processed/Congratulations.txt\n"
     ]
    }
   ],
   "source": [
    "import glob\n",
    "\n",
    "base_dir = \"lyrics/hamilton/raw/\"\n",
    "processed_dir = \"lyrics/hamilton/processed/\"\n",
    "\n",
    "raw_files = glob.glob(base_dir + \"*.txt\")\n",
    "\n",
    "for i in range(len(raw_files)):\n",
    "    processed = processed_dir + raw_files[i].rsplit(\"/\", 1)[1]\n",
    "    with open(raw_files[i], \"r\") as raw, open(processed, \"w\") as proc:\n",
    "        for line in raw:\n",
    "            rejected = False\n",
    "            try:\n",
    "                if \"[\" in line or \"]\" in line:\n",
    "                    rejected = True\n",
    "                    # print(line[:-1], \" REJECTED\")\n",
    "                for word in line.split():\n",
    "                    if len(word) > 1 and word.isupper():\n",
    "                        rejected = True\n",
    "                        # print(line[:-1], \" REJECTED\")\n",
    "                if not rejected:\n",
    "                    # print(line)\n",
    "                    proc.write(line)\n",
    "            except IndexError:\n",
    "                print(\"Empty line\")\n",
    " "
   ]
  },
  {
   "cell_type": "code",
   "execution_count": null,
   "metadata": {},
   "outputs": [],
   "source": []
  }
 ],
 "metadata": {
  "kernelspec": {
   "display_name": "Python 3",
   "language": "python",
   "name": "python3"
  },
  "language_info": {
   "codemirror_mode": {
    "name": "ipython",
    "version": 3
   },
   "file_extension": ".py",
   "mimetype": "text/x-python",
   "name": "python",
   "nbconvert_exporter": "python",
   "pygments_lexer": "ipython3",
   "version": "3.5.2"
  }
 },
 "nbformat": 4,
 "nbformat_minor": 2
}
