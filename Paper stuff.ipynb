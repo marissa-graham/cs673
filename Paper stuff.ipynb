{
 "cells": [
  {
   "cell_type": "code",
   "execution_count": 11,
   "metadata": {},
   "outputs": [],
   "source": [
    "from rhymetools import RhymeEvaluator\n",
    "import phonetic\n",
    "dictionary = phonetic.PhoneticDictionary()\n",
    "rm = RhymeEvaluator()"
   ]
  },
  {
   "cell_type": "code",
   "execution_count": 18,
   "metadata": {
    "scrolled": true
   },
   "outputs": [
    {
     "name": "stdout",
     "output_type": "stream",
     "text": [
      "(\"impoverished\" IH0 M P AA1 V R IH0 SH T ) (\"scholar\" S K AA1 L ER0 )\n"
     ]
    },
    {
     "data": {
      "text/plain": [
       "0"
      ]
     },
     "execution_count": 18,
     "metadata": {},
     "output_type": "execute_result"
    }
   ],
   "source": [
    "str1 = \"impoverished in squalor\"\n",
    "str2 = \"hero and a scholar\"\n",
    "\n",
    "first_word_list = []\n",
    "second_word_list = []\n",
    "\n",
    "for word in str1.split():\n",
    "    first_word_list.append(dictionary.lookup(word))\n",
    "    \n",
    "for word in str2.split():\n",
    "    second_word_list.append(dictionary.lookup(word))\n",
    "    \n",
    "w1 = dictionary.lookup(\"impoverished\")\n",
    "w2 = dictionary.lookup(\"scholar\")\n",
    "\n",
    "print(w1, w2)\n",
    "    \n",
    "rm.rhyme_score(w1, w2, 1, 1)"
   ]
  },
  {
   "cell_type": "code",
   "execution_count": null,
   "metadata": {},
   "outputs": [],
   "source": []
  }
 ],
 "metadata": {
  "kernelspec": {
   "display_name": "Python 3",
   "language": "python",
   "name": "python3"
  },
  "language_info": {
   "codemirror_mode": {
    "name": "ipython",
    "version": 3
   },
   "file_extension": ".py",
   "mimetype": "text/x-python",
   "name": "python",
   "nbconvert_exporter": "python",
   "pygments_lexer": "ipython3",
   "version": "3.6.3"
  }
 },
 "nbformat": 4,
 "nbformat_minor": 2
}
