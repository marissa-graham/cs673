{
 "cells": [
  {
   "cell_type": "code",
   "execution_count": 29,
   "metadata": {
    "scrolled": true
   },
   "outputs": [],
   "source": [
    "import verse\n",
    "import corpus\n",
    "import generate_sample\n",
    "import phonetic\n",
    "import rhymetools\n",
    "import importlib\n",
    "\n",
    "dictionary = phonetic.PhoneticDictionary()"
   ]
  },
  {
   "cell_type": "code",
   "execution_count": 30,
   "metadata": {
    "scrolled": true
   },
   "outputs": [
    {
     "name": "stdout",
     "output_type": "stream",
     "text": [
      "\"dawg\" not in dictionary\n",
      "\"trigonometry\" not in dictionary\n",
      "\"dawg\" not in dictionary\n",
      "\n",
      "Alexander Hamilton, my dawg is Alexander Hamilton. He studies trigonometry, dawg\n",
      "\n",
      "[phonetic.Word(\"alexander\" AE2 L AH0 G Z AE1 N D ER0 ), phonetic.Word(\"hamilton\" HH AE1 M AH0 L T AH0 N ), phonetic.Word(\"my\" M AY1 ), phonetic.Word(\"dawg\" D AO0 G ), phonetic.Word(\"is\" IH1 Z ), phonetic.Word(\"alexander\" AE2 L AH0 G Z AE1 N D ER0 ), phonetic.Word(\"hamilton\" HH AE1 M AH0 L T AH0 N ), phonetic.Word(\"he\" HH IY1 ), phonetic.Word(\"studies\" S T AH1 D IY0 Z ), phonetic.Word(\"trigonometry\" T R IH0 G AH0 N AH0 M EH0 T R IY0 ), phonetic.Word(\"dawg\" D AO0 G )]\n",
      "\n",
      "[2, 0, 1, 0, 1, 0, 0, 1, 0, 1, 2, 0, 1, 0, 1, 0, 0, 1, 1, 0, 0, 0, 0, 0, 0, 0]\n",
      "\n",
      "[]\n",
      "\n",
      "[]\n",
      "\n",
      "None\n"
     ]
    },
    {
     "ename": "AttributeError",
     "evalue": "'VerseTemplate' object has no attribute 'num_syllables'",
     "output_type": "error",
     "traceback": [
      "\u001b[0;31m---------------------------------------------------------------------------\u001b[0m",
      "\u001b[0;31mAttributeError\u001b[0m                            Traceback (most recent call last)",
      "\u001b[0;32m<ipython-input-30-cf0fcdb4c6f5>\u001b[0m in \u001b[0;36m<module>\u001b[0;34m()\u001b[0m\n\u001b[1;32m     18\u001b[0m \u001b[0mprint\u001b[0m\u001b[0;34m(\u001b[0m\u001b[0mverse_template\u001b[0m\u001b[0;34m.\u001b[0m\u001b[0mrhyme_matrix\u001b[0m\u001b[0;34m)\u001b[0m\u001b[0;34m\u001b[0m\u001b[0m\n\u001b[1;32m     19\u001b[0m \u001b[0;34m\u001b[0m\u001b[0m\n\u001b[0;32m---> 20\u001b[0;31m \u001b[0mverse_template\u001b[0m\u001b[0;34m.\u001b[0m\u001b[0mget_rhyme\u001b[0m\u001b[0;34m(\u001b[0m\u001b[0;34m)\u001b[0m\u001b[0;34m\u001b[0m\u001b[0m\n\u001b[0m",
      "\u001b[0;32m~/byu/cs673/verse.py\u001b[0m in \u001b[0;36mget_rhyme\u001b[0;34m(self)\u001b[0m\n\u001b[1;32m    176\u001b[0m                 \u001b[0;32mfor\u001b[0m \u001b[0mi\u001b[0m \u001b[0;32min\u001b[0m \u001b[0mrange\u001b[0m\u001b[0;34m(\u001b[0m\u001b[0mlen\u001b[0m\u001b[0;34m(\u001b[0m\u001b[0mself\u001b[0m\u001b[0;34m.\u001b[0m\u001b[0mwordList\u001b[0m\u001b[0;34m)\u001b[0m\u001b[0;34m)\u001b[0m\u001b[0;34m:\u001b[0m\u001b[0;34m\u001b[0m\u001b[0m\n\u001b[1;32m    177\u001b[0m \u001b[0;34m\u001b[0m\u001b[0m\n\u001b[0;32m--> 178\u001b[0;31m                         \u001b[0mself\u001b[0m\u001b[0;34m.\u001b[0m\u001b[0msyllable_indices\u001b[0m\u001b[0;34m.\u001b[0m\u001b[0mappend\u001b[0m\u001b[0;34m(\u001b[0m\u001b[0mself\u001b[0m\u001b[0;34m.\u001b[0m\u001b[0mnum_syllables\u001b[0m\u001b[0;34m)\u001b[0m\u001b[0;34m\u001b[0m\u001b[0m\n\u001b[0m\u001b[1;32m    179\u001b[0m                         \u001b[0mself\u001b[0m\u001b[0;34m.\u001b[0m\u001b[0mnum_syllables\u001b[0m \u001b[0;34m+=\u001b[0m \u001b[0mself\u001b[0m\u001b[0;34m.\u001b[0m\u001b[0mwordList\u001b[0m\u001b[0;34m[\u001b[0m\u001b[0mi\u001b[0m\u001b[0;34m]\u001b[0m\u001b[0;34m.\u001b[0m\u001b[0mlength\u001b[0m\u001b[0;34m\u001b[0m\u001b[0m\n\u001b[1;32m    180\u001b[0m \u001b[0;34m\u001b[0m\u001b[0m\n",
      "\u001b[0;31mAttributeError\u001b[0m: 'VerseTemplate' object has no attribute 'num_syllables'"
     ]
    }
   ],
   "source": [
    "importlib.reload(phonetic)\n",
    "importlib.reload(verse)\n",
    "importlib.reload(rhymetools)\n",
    "\n",
    "verse_template = verse.VerseTemplate(verse.get_sample(5), dictionary, breakrules=\"phrase\") \n",
    "verse_template.add_unknowns(\"logios_output/g2p.txt\")\n",
    "print()\n",
    "print(verse.get_sample(5))\n",
    "print()\n",
    "print(verse_template.wordList)\n",
    "print()\n",
    "print(verse_template.stresses)\n",
    "print()\n",
    "print(verse_template.syllable_indices)\n",
    "print()\n",
    "print(verse_template.matrix_indices)\n",
    "print()\n",
    "print(verse_template.rhyme_matrix)\n",
    "\n",
    "verse_template.get_rhyme()"
   ]
  },
  {
   "cell_type": "code",
   "execution_count": 8,
   "metadata": {
    "scrolled": true
   },
   "outputs": [
    {
     "name": "stdout",
     "output_type": "stream",
     "text": [
      "\"dawg\" not in dictionary\n",
      "\"trigonometry\" not in dictionary\n",
      "Input text: 11 words, 8 unique\n",
      "\n",
      "[phonetic.Word(\"alexander\" AE2 L AH0 G Z AE1 N D ER0 ), phonetic.Word(\"hamilton\" HH AE1 M AH0 L T AH0 N ), phonetic.Word(\"my\" M AY1 ), None, phonetic.Word(\"is\" IH1 Z ), phonetic.Word(\"he\" HH IY1 ), phonetic.Word(\"studies\" S T AH1 D IY0 Z ), None]\n",
      "[0 1 2 3 4 0 1 5 6 7 3]\n",
      "\n",
      "[phonetic.Word(\"alexander\" AE2 L AH0 G Z AE1 N D ER0 ), phonetic.Word(\"hamilton\" HH AE1 M AH0 L T AH0 N ), phonetic.Word(\"my\" M AY1 ), phonetic.Word(\"dawg\" D AO0 G ), phonetic.Word(\"is\" IH1 Z ), phonetic.Word(\"he\" HH IY1 ), phonetic.Word(\"studies\" S T AH1 D IY0 Z ), phonetic.Word(\"trigonometry\" T R IH0 G AH0 N AH0 M EH0 T R IY0 )]\n",
      "\n",
      "{'alexander': 0, 'hamilton': 1, 'trigonometry': 7, 'dawg': 3, 'he': 5, 'is': 4, 'my': 2, 'studies': 6}\n",
      "\n",
      "{'IY1': [(5, 1)], 'IH1': [(4, 0)], 'AE1': [(0, 5), (1, 1)], 'AO0': [(3, 1)], 'IY0': [(6, 4), (7, 11)], 'ER0': [(0, 8)], 'IH0': [(7, 2)], 'AE2': [(0, 0)], 'AY1': [(2, 1)], 'AH0': [(0, 2), (1, 3), (1, 6), (7, 4), (7, 6)], 'AH1': [(6, 2)], 'EH0': [(7, 8)]}\n"
     ]
    }
   ],
   "source": [
    "importlib.reload(phonetic)\n",
    "importlib.reload(verse)\n",
    "importlib.reload(rhymetools)\n",
    "importlib.reload(corpus)\n",
    "\n",
    "corp = corpus.WordCorpus(dictionary)\n",
    "corp.initialize(verse.get_sample(5), is_filename=False)\n",
    "print()\n",
    "print(corp.wordList)\n",
    "print(corp.wordSeq)\n",
    "corp.add_unknowns(\"logios_output/g2p.txt\")\n",
    "print()\n",
    "print(corp.wordList)\n",
    "corp.initializeMatrix()\n",
    "print()\n",
    "print(corp.wordDict)\n",
    "corp.initializeSylDict()\n",
    "print()\n",
    "print(corp.sylDict)\n",
    "\n"
   ]
  },
  {
   "cell_type": "code",
   "execution_count": 24,
   "metadata": {
    "scrolled": true
   },
   "outputs": [],
   "source": [
    "import numpy as np\n",
    "a = np.reshape(np.arange(16), (4, 4))\n",
    "np.fill_diagonal(a, 0)\n",
    "\n"
   ]
  },
  {
   "cell_type": "code",
   "execution_count": 27,
   "metadata": {},
   "outputs": [
    {
     "name": "stdout",
     "output_type": "stream",
     "text": [
      "[0 0 0 1 1 1 2 2 2 3 3 3]\n",
      "[1 2 3 0 2 3 0 1 3 0 1 2]\n",
      "12\n"
     ]
    }
   ],
   "source": [
    "rows, cols = np.nonzero(a)\n",
    "print(rows)\n",
    "print(cols)\n",
    "print(len(rows))"
   ]
  },
  {
   "cell_type": "code",
   "execution_count": 23,
   "metadata": {
    "scrolled": true
   },
   "outputs": [
    {
     "name": "stdout",
     "output_type": "stream",
     "text": [
      "(array([0, 1, 1]), array([0, 0, 1]))\n",
      "(array([0, 1, 1]), array([0, 0, 1]))\n"
     ]
    }
   ],
   "source": [
    "b = np.array([[1, 0], [3, 4]])\n",
    "print(np.nonzero(b))\n",
    "print(np.where(b != 0))"
   ]
  },
  {
   "cell_type": "code",
   "execution_count": 17,
   "metadata": {},
   "outputs": [
    {
     "data": {
      "text/plain": [
       "(array([0, 0, 0, 1, 1, 1, 2, 2, 2, 3, 3, 3]),\n",
       " array([1, 2, 3, 0, 2, 3, 0, 1, 3, 0, 1, 2]))"
      ]
     },
     "execution_count": 17,
     "metadata": {},
     "output_type": "execute_result"
    }
   ],
   "source": [
    "# np.where(a != 0)\n",
    "np.nonzero(a)\n"
   ]
  },
  {
   "cell_type": "code",
   "execution_count": 11,
   "metadata": {},
   "outputs": [
    {
     "ename": "SyntaxError",
     "evalue": "invalid syntax (<ipython-input-11-b8aec081f395>, line 1)",
     "output_type": "error",
     "traceback": [
      "\u001b[0;36m  File \u001b[0;32m\"<ipython-input-11-b8aec081f395>\"\u001b[0;36m, line \u001b[0;32m1\u001b[0m\n\u001b[0;31m    zip(np.where a != 0)\u001b[0m\n\u001b[0m                 ^\u001b[0m\n\u001b[0;31mSyntaxError\u001b[0m\u001b[0;31m:\u001b[0m invalid syntax\n"
     ]
    }
   ],
   "source": [
    "zip(np.where a != 0)"
   ]
  },
  {
   "cell_type": "code",
   "execution_count": null,
   "metadata": {},
   "outputs": [],
   "source": []
  }
 ],
 "metadata": {
  "kernelspec": {
   "display_name": "Python 3",
   "language": "python",
   "name": "python3"
  },
  "language_info": {
   "codemirror_mode": {
    "name": "ipython",
    "version": 3
   },
   "file_extension": ".py",
   "mimetype": "text/x-python",
   "name": "python",
   "nbconvert_exporter": "python",
   "pygments_lexer": "ipython3",
   "version": "3.6.3"
  }
 },
 "nbformat": 4,
 "nbformat_minor": 1
}
