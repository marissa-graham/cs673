{
 "cells": [
  {
   "cell_type": "code",
   "execution_count": 7,
   "metadata": {
    "collapsed": true,
    "scrolled": true
   },
   "outputs": [],
   "source": [
    "import verse\n",
    "import corpus\n",
    "import generate_sample\n",
    "import phonetic\n",
    "import rhymetools\n",
    "import matplotlib.pyplot as plt\n",
    "import importlib\n",
    "import numpy as np\n",
    "\n",
    "dictionary = phonetic.PhoneticDictionary()"
   ]
  },
  {
   "cell_type": "code",
   "execution_count": 9,
   "metadata": {
    "collapsed": false,
    "scrolled": false
   },
   "outputs": [
    {
     "name": "stdout",
     "output_type": "stream",
     "text": [
      "How does a bastard, orphan, son of a whore and a scotsman, dropped \tin the middle of a forgotten spot in the caribbean in providence \timpoverished in squalor, grow up to be a hero and a scholar?\n",
      "num_syllables:  53\n",
      "percentile to cut off: 98.0\n",
      "nonzeros before cutoff: 236\n",
      "cutoff:  0.9533233539410668\n",
      "match word  4 ( orphan , 1 ) and word  18 ( forgotten , 2 ) (rhyme score  0.9590391554146134 )\n",
      "match word  11 ( scotsman , 1 ) and word  18 ( forgotten , 2 ) (rhyme score  0.9666666666666668 )\n",
      "match word  18 ( forgotten , 1 ) and word  19 ( spot , 0 ) (rhyme score  0.9582108370143159 )\n",
      "match word  22 ( caribbean , 0 ) and word  27 ( squalor , 1 ) (rhyme score  0.9533233539410668 )\n",
      "match word  22 ( caribbean , 0 ) and word  36 ( scholar , 1 ) (rhyme score  0.9533233539410668 )\n",
      "match word  27 ( squalor , 0 ) and word  36 ( scholar , 0 ) (rhyme score  0.9627653155550171 )\n",
      "match word  27 ( squalor , 1 ) and word  36 ( scholar , 1 ) (rhyme score  1.0 )\n"
     ]
    },
    {
     "data": {
      "image/png": "[encoded data removed]",
      "text/plain": [
       "<matplotlib.figure.Figure at 0x1081715f8>"
      ]
     },
     "metadata": {},
     "output_type": "display_data"
    },
    {
     "name": "stdout",
     "output_type": "stream",
     "text": [
      "buddy you're a boy make a big noise, playing in the street, \tgonna be a big man some day, you got mud on your face, you big disgrace, \tkicking your can all over the place, singing, we will, we will, rock you, \twe will, we will, rock you\n",
      "num_syllables:  55\n",
      "percentile to cut off: 99.0\n",
      "nonzeros before cutoff: 638\n",
      "cutoff:  0.9547293883007488\n",
      "match word  0 ( buddy , 0 ) and word  21 ( mud , 0 ) (rhyme score  0.9624130300290297 )\n",
      "match word  8 ( playing , 0 ) and word  18 ( day , 0 ) (rhyme score  0.9582108370143159 )\n",
      "match word  13 ( be , 0 ) and word  36 ( we , 0 ) (rhyme score  0.9547293883007488 )\n",
      "match word  13 ( be , 0 ) and word  38 ( we , 0 ) (rhyme score  0.9547293883007488 )\n",
      "match word  24 ( face , 0 ) and word  27 ( disgrace , 1 ) (rhyme score  0.9610066495632574 )\n",
      "match word  24 ( face , 0 ) and word  34 ( place , 0 ) (rhyme score  0.9590391554146134 )\n",
      "match word  27 ( disgrace , 1 ) and word  34 ( place , 0 ) (rhyme score  0.9668906549913545 )\n"
     ]
    },
    {
     "data": {
      "image/png": "[encoded data removed]",
      "text/plain": [
       "<matplotlib.figure.Figure at 0x108193e80>"
      ]
     },
     "metadata": {},
     "output_type": "display_data"
    }
   ],
   "source": [
    "importlib.reload(phonetic)\n",
    "importlib.reload(verse)\n",
    "importlib.reload(rhymetools)\n",
    "\n",
    "for i in [1,4]:\n",
    "    \n",
    "    print(verse.get_sample(i))\n",
    "    verse_template = verse.VerseTemplate(verse.get_sample(i), dictionary, breakrules=\"phrase\") \n",
    "    verse_template.add_unknowns(\"logios_output/g2p.txt\")\n",
    "    \n",
    "    verse_template.get_rhyme()\n",
    "    \n",
    "    plt.spy(verse_template.rhyme_matrix)\n",
    "    plt.show()"
   ]
  },
  {
   "cell_type": "code",
   "execution_count": 22,
   "metadata": {
    "collapsed": false,
    "scrolled": true
   },
   "outputs": [
    {
     "name": "stdout",
     "output_type": "stream",
     "text": [
      "\"dawg\" not in dictionary\n",
      "\"trigonometry\" not in dictionary\n",
      "Input text: 11 words, 8 unique\n",
      "\n",
      "[phonetic.Word(\"alexander\" AE2 L AH0 G Z AE1 N D ER0 ), phonetic.Word(\"hamilton\" HH AE1 M AH0 L T AH0 N ), phonetic.Word(\"my\" M AY1 ), None, phonetic.Word(\"is\" IH1 Z ), phonetic.Word(\"he\" HH IY1 ), phonetic.Word(\"studies\" S T AH1 D IY0 Z ), None]\n",
      "[0 1 2 3 4 0 1 5 6 7 3]\n",
      "\n",
      "[phonetic.Word(\"alexander\" AE2 L AH0 G Z AE1 N D ER0 ), phonetic.Word(\"hamilton\" HH AE1 M AH0 L T AH0 N ), phonetic.Word(\"my\" M AY1 ), phonetic.Word(\"dawg\" D AO0 G ), phonetic.Word(\"is\" IH1 Z ), phonetic.Word(\"he\" HH IY1 ), phonetic.Word(\"studies\" S T AH1 D IY0 Z ), phonetic.Word(\"trigonometry\" T R IH0 G AH0 N AH0 M EH0 T R IY0 )]\n",
      "\n",
      "{'alexander': 0, 'hamilton': 1, 'my': 2, 'dawg': 3, 'is': 4, 'he': 5, 'studies': 6, 'trigonometry': 7}\n",
      "\n",
      "{'AE': [(0, 0), (0, 5), (1, 1)], 'AH': [(0, 2), (1, 3), (1, 6), (6, 2), (7, 4), (7, 6)], 'ER': [(0, 8)], 'AY': [(2, 1)], 'AO': [(3, 1)], 'IH': [(4, 0), (7, 2)], 'IY': [(5, 1), (6, 4), (7, 11)], 'EH': [(7, 8)]}\n"
     ]
    }
   ],
   "source": [
    "importlib.reload(phonetic)\n",
    "importlib.reload(verse)\n",
    "importlib.reload(rhymetools)\n",
    "importlib.reload(corpus)\n",
    "\n",
    "corp = corpus.WordCorpus(dictionary)\n",
    "corp.initialize(verse.get_sample(5), is_filename=False)\n",
    "print()\n",
    "print(corp.wordList)\n",
    "print(corp.wordSeq)\n",
    "corp.add_unknowns(\"logios_output/g2p.txt\")\n",
    "print()\n",
    "print(corp.wordList)\n",
    "corp.initializeMatrix()\n",
    "print()\n",
    "print(corp.wordDict)\n",
    "corp.initializeSylDict()\n",
    "print()\n",
    "print(corp.sylDict)\n",
    "\n"
   ]
  },
  {
   "cell_type": "code",
   "execution_count": 45,
   "metadata": {
    "collapsed": false
   },
   "outputs": [
    {
     "name": "stdout",
     "output_type": "stream",
     "text": [
      "Input text: 48 words, 32 unique\n",
      "AH [(0, 1), (2, 0), (9, 1), (11, 3), (14, 1), (18, 1)]\n",
      "IY [(0, 3), (10, 3), (12, 1), (29, 1)]\n",
      "UH [(1, 1)]\n",
      "OY [(3, 1), (6, 1)]\n",
      "EY [(4, 1), (7, 2), (15, 1), (21, 1), (22, 5), (27, 2)]\n",
      "IH [(5, 1), (7, 3), (8, 0), (22, 1), (23, 1), (23, 3), (28, 1), (28, 3), (30, 1)]\n",
      "AA [(11, 1), (17, 1), (19, 0), (31, 1)]\n",
      "AE [(13, 1), (24, 1)]\n",
      "UW [(16, 1)]\n",
      "AO [(20, 1), (25, 0)]\n",
      "OW [(26, 0)]\n",
      "ER [(26, 2)]\n",
      "0 phonetic.Word(\"buddy\" B AH1 D IY0 )\n",
      "1 phonetic.Word(\"you're\" Y UH1 R )\n",
      "2 phonetic.Word(\"a\" AH0 )\n",
      "3 phonetic.Word(\"boy\" B OY1 )\n",
      "4 phonetic.Word(\"make\" M EY1 K )\n",
      "5 phonetic.Word(\"big\" B IH1 G )\n",
      "6 phonetic.Word(\"noise\" N OY1 Z )\n",
      "7 phonetic.Word(\"playing\" P L EY1 IH0 NG )\n",
      "8 phonetic.Word(\"in\" IH0 N )\n",
      "9 phonetic.Word(\"the\" DH AH0 )\n",
      "10 phonetic.Word(\"street\" S T R IY1 T )\n",
      "11 phonetic.Word(\"gonna\" G AA1 N AH0 )\n",
      "12 phonetic.Word(\"be\" B IY1 )\n",
      "13 phonetic.Word(\"man\" M AE1 N )\n",
      "14 phonetic.Word(\"some\" S AH1 M )\n",
      "15 phonetic.Word(\"day\" D EY1 )\n",
      "16 phonetic.Word(\"you\" Y UW1 )\n",
      "17 phonetic.Word(\"got\" G AA1 T )\n",
      "18 phonetic.Word(\"mud\" M AH1 D )\n",
      "19 phonetic.Word(\"on\" AA1 N )\n",
      "20 phonetic.Word(\"your\" Y AO1 R )\n",
      "21 phonetic.Word(\"face\" F EY1 S )\n",
      "22 phonetic.Word(\"disgrace\" D IH0 S G R EY1 S )\n",
      "23 phonetic.Word(\"kicking\" K IH1 K IH0 NG )\n",
      "24 phonetic.Word(\"can\" K AE1 N )\n",
      "25 phonetic.Word(\"all\" AO1 L )\n",
      "26 phonetic.Word(\"over\" OW1 V ER0 )\n",
      "27 phonetic.Word(\"place\" P L EY1 S )\n",
      "28 phonetic.Word(\"singing\" S IH1 NG IH0 NG )\n",
      "29 phonetic.Word(\"we\" W IY1 )\n",
      "30 phonetic.Word(\"will\" W IH1 L )\n",
      "31 phonetic.Word(\"rock\" R AA1 K )\n",
      "Nonzero indices in rhyme matrix:\n",
      "rows:  [ 0  9 16 16 27 27 31]\n",
      "cols:  [24 21 43 45 31 40 40]\n",
      "\n",
      "First word ( from row  0 ):  buddy\n",
      "First word phoneme:  AH\n",
      "[(0, 1), (2, 0), (9, 1), (11, 3), (14, 1), (18, 1)]\n",
      "0\n",
      "phonetic.Word(\"buddy\" B AH1 D IY0 )\n",
      "2\n",
      "phonetic.Word(\"a\" AH0 )\n",
      "9\n",
      "phonetic.Word(\"in\" IH0 N )\n",
      "11\n",
      "phonetic.Word(\"street\" S T R IY1 T )\n",
      "14\n",
      "phonetic.Word(\"a\" AH0 )\n",
      "18\n",
      "phonetic.Word(\"day\" D EY1 )\n"
     ]
    }
   ],
   "source": [
    "importlib.reload(phonetic)\n",
    "importlib.reload(corpus)\n",
    "\n",
    "corp = corpus.WordCorpus(dictionary)\n",
    "corp.initialize(verse.get_sample(4), is_filename=False)\n",
    "corp.initializeSylDict()\n",
    "for key in corp.sylDict.keys():\n",
    "    print(key, corp.sylDict[key])\n",
    "for i, word in enumerate(corp.wordList):\n",
    "    print(i, word)\n",
    "\n",
    "# help(phonetic)\n",
    "# get syllable lists from rhyme pairs from the matrix\n",
    "print(\"Nonzero indices in rhyme matrix:\")\n",
    "syl_list_1, syl_list_2 = np.nonzero(verse_template.rhyme_matrix)\n",
    "num_pairs = len(syl_list_1)\n",
    "print(\"rows: \", syl_list_1)\n",
    "print(\"cols: \", syl_list_2)\n",
    "print()\n",
    "\n",
    "for i in range(num_pairs):\n",
    "    word_1 = verse_template.wordList[verse_template.matrix_indices[i][0]]\n",
    "    word_1_phoneme = word_1.vowel_at(verse_template.matrix_indices[i][1])\n",
    "    word_1_phoneme = word_1_phoneme[:-1] # strip stress indicator\n",
    "    print(\"First word ( from row \", syl_list_1[i], \"): \", word_1.stringRepr)\n",
    "    print(\"First word phoneme: \", word_1_phoneme)\n",
    "    \n",
    "    second_word_syl_options = corp.sylDict[word_1_phoneme]\n",
    "    print(second_word_syl_options)\n",
    "    \n",
    "    for j in range(len(second_word_syl_options)):\n",
    "        second_word_idx = second_word_syl_options[j][0]\n",
    "        print(second_word_idx)\n",
    "        print(verse_template.wordList[second_word_idx])\n",
    "    break\n"
   ]
  },
  {
   "cell_type": "code",
   "execution_count": 49,
   "metadata": {
    "collapsed": false
   },
   "outputs": [
    {
     "name": "stdout",
     "output_type": "stream",
     "text": [
      "['__class__', '__delattr__', '__dict__', '__dir__', '__doc__', '__eq__', '__format__', '__ge__', '__getattribute__', '__gt__', '__hash__', '__init__', '__init_subclass__', '__le__', '__lt__', '__module__', '__ne__', '__new__', '__reduce__', '__reduce_ex__', '__repr__', '__setattr__', '__sizeof__', '__str__', '__subclasshook__', '__unicode__', '__weakref__', '_encoding', '_fileids', '_get_root', '_root', '_tagset', '_unload', '_wrap_etree', 'abspath', 'abspaths', 'citation', 'encoding', 'ensure_loaded', 'fileids', 'license', 'open', 'raw', 'readme', 'root', 'unicode_repr', 'words', 'xml']\n"
     ]
    }
   ],
   "source": [
    "import nltk\n",
    "from nltk.corpus import shakespeare\n",
    "\n",
    "# help(shakespeare)\n",
    "print(dir(shakespeare))"
   ]
  },
  {
   "cell_type": "code",
   "execution_count": null,
   "metadata": {
    "collapsed": true
   },
   "outputs": [],
   "source": []
  }
 ],
 "metadata": {
  "kernelspec": {
   "display_name": "Python 3",
   "language": "python",
   "name": "python3"
  },
  "language_info": {
   "codemirror_mode": {
    "name": "ipython",
    "version": 3
   },
   "file_extension": ".py",
   "mimetype": "text/x-python",
   "name": "python",
   "nbconvert_exporter": "python",
   "pygments_lexer": "ipython3",
   "version": "3.6.2"
  }
 },
 "nbformat": 4,
 "nbformat_minor": 1
}
