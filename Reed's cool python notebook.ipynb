{
 "cells": [
  {
   "cell_type": "code",
   "execution_count": 1,
   "metadata": {
    "scrolled": true
   },
   "outputs": [],
   "source": [
    "import verse\n",
    "import corpus\n",
    "import generate_sample\n",
    "import phonetic\n",
    "import rhymetools\n",
    "import importlib\n",
    "\n",
    "dictionary = phonetic.PhoneticDictionary()"
   ]
  },
  {
   "cell_type": "code",
   "execution_count": 2,
   "metadata": {
    "scrolled": true
   },
   "outputs": [
    {
     "name": "stdout",
     "output_type": "stream",
     "text": [
      "\"dawg\" not in dictionary\n",
      "\"trigonometry\" not in dictionary\n",
      "\"dawg\" not in dictionary\n",
      "\n",
      "Alexander Hamilton, my dawg is Alexander Hamilton. He studies trigonometry, dawg\n",
      "\n",
      "[phonetic.Word(\"alexander\" AE2 L AH0 G Z AE1 N D ER0 ), phonetic.Word(\"hamilton\" HH AE1 M AH0 L T AH0 N ), phonetic.Word(\"my\" M AY1 ), phonetic.Word(\"dawg\" D AO0 G ), phonetic.Word(\"is\" IH1 Z ), phonetic.Word(\"alexander\" AE2 L AH0 G Z AE1 N D ER0 ), phonetic.Word(\"hamilton\" HH AE1 M AH0 L T AH0 N ), phonetic.Word(\"he\" HH IY1 ), phonetic.Word(\"studies\" S T AH1 D IY0 Z ), phonetic.Word(\"trigonometry\" T R IH0 G AH0 N AH0 M EH0 T R IY0 ), phonetic.Word(\"dawg\" D AO0 G )]\n",
      "\n",
      "[2, 0, 1, 0, 1, 0, 0, 1, 0, 1, 2, 0, 1, 0, 1, 0, 0, 1, 1, 0, 0, 0, 0, 0, 0, 0]\n"
     ]
    }
   ],
   "source": [
    "importlib.reload(phonetic)\n",
    "importlib.reload(verse)\n",
    "importlib.reload(rhymetools)\n",
    "\n",
    "verse_template = verse.VerseTemplate(verse.get_sample(5), dictionary, breakrules=\"phrase\") \n",
    "verse_template.add_unknowns(\"logios_output/g2p.txt\")\n",
    "print()\n",
    "print(verse.get_sample(5))\n",
    "print()\n",
    "print(verse_template.wordList)\n",
    "print()\n",
    "print(verse_template.stresses)\n",
    "\n",
    "verse_template.get_rhyme()"
   ]
  },
  {
   "cell_type": "code",
   "execution_count": 8,
   "metadata": {
    "scrolled": true
   },
   "outputs": [
    {
     "name": "stdout",
     "output_type": "stream",
     "text": [
      "\"dawg\" not in dictionary\n",
      "\"trigonometry\" not in dictionary\n",
      "Input text: 11 words, 8 unique\n",
      "\n",
      "[phonetic.Word(\"alexander\" AE2 L AH0 G Z AE1 N D ER0 ), phonetic.Word(\"hamilton\" HH AE1 M AH0 L T AH0 N ), phonetic.Word(\"my\" M AY1 ), None, phonetic.Word(\"is\" IH1 Z ), phonetic.Word(\"he\" HH IY1 ), phonetic.Word(\"studies\" S T AH1 D IY0 Z ), None]\n",
      "[0 1 2 3 4 0 1 5 6 7 3]\n",
      "\n",
      "[phonetic.Word(\"alexander\" AE2 L AH0 G Z AE1 N D ER0 ), phonetic.Word(\"hamilton\" HH AE1 M AH0 L T AH0 N ), phonetic.Word(\"my\" M AY1 ), phonetic.Word(\"dawg\" D AO0 G ), phonetic.Word(\"is\" IH1 Z ), phonetic.Word(\"he\" HH IY1 ), phonetic.Word(\"studies\" S T AH1 D IY0 Z ), phonetic.Word(\"trigonometry\" T R IH0 G AH0 N AH0 M EH0 T R IY0 )]\n",
      "\n",
      "{'alexander': 0, 'hamilton': 1, 'trigonometry': 7, 'dawg': 3, 'he': 5, 'is': 4, 'my': 2, 'studies': 6}\n",
      "\n",
      "{'IY1': [(5, 1)], 'IH1': [(4, 0)], 'AE1': [(0, 5), (1, 1)], 'AO0': [(3, 1)], 'IY0': [(6, 4), (7, 11)], 'ER0': [(0, 8)], 'IH0': [(7, 2)], 'AE2': [(0, 0)], 'AY1': [(2, 1)], 'AH0': [(0, 2), (1, 3), (1, 6), (7, 4), (7, 6)], 'AH1': [(6, 2)], 'EH0': [(7, 8)]}\n"
     ]
    }
   ],
   "source": [
    "importlib.reload(phonetic)\n",
    "importlib.reload(verse)\n",
    "importlib.reload(rhymetools)\n",
    "importlib.reload(corpus)\n",
    "\n",
    "corp = corpus.WordCorpus(dictionary)\n",
    "corp.initialize(verse.get_sample(5), is_filename=False)\n",
    "print()\n",
    "print(corp.wordList)\n",
    "print(corp.wordSeq)\n",
    "corp.add_unknowns(\"logios_output/g2p.txt\")\n",
    "print()\n",
    "print(corp.wordList)\n",
    "corp.initializeMatrix()\n",
    "print()\n",
    "print(corp.wordDict)\n",
    "corp.initializeSylDict()\n",
    "print()\n",
    "print(corp.sylDict)\n",
    "\n"
   ]
  },
  {
   "cell_type": "code",
   "execution_count": null,
   "metadata": {},
   "outputs": [],
   "source": []
  }
 ],
 "metadata": {
  "kernelspec": {
   "display_name": "Python 3",
   "language": "python",
   "name": "python3"
  },
  "language_info": {
   "codemirror_mode": {
    "name": "ipython",
    "version": 3
   },
   "file_extension": ".py",
   "mimetype": "text/x-python",
   "name": "python",
   "nbconvert_exporter": "python",
   "pygments_lexer": "ipython3",
   "version": "3.5.2"
  }
 },
 "nbformat": 4,
 "nbformat_minor": 1
}
