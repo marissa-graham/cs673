{
 "cells": [
  {
   "cell_type": "markdown",
   "metadata": {
    "collapsed": false
   },
   "source": [
    "https://www.python.org/downloads/release/python-364/"
   ]
  },
  {
   "cell_type": "code",
   "execution_count": 91,
   "metadata": {
    "collapsed": false
   },
   "outputs": [],
   "source": [
    "import phonetic\n",
    "import corpus\n",
    "import generate_sample\n",
    "import verse\n",
    "import re\n",
    "import nltk\n",
    "import importlib\n",
    "import string\n",
    "import seaborn\n",
    "import numpy as np\n",
    "from scipy import sparse\n",
    "from matplotlib import pyplot as plt\n",
    "%matplotlib inline"
   ]
  },
  {
   "cell_type": "code",
   "execution_count": 3,
   "metadata": {
    "collapsed": false
   },
   "outputs": [
    {
     "name": "stdout",
     "output_type": "stream",
     "text": [
      "[nltk_data] Downloading package gutenberg to\n",
      "[nltk_data]     C:\\Users\\Marissa\\AppData\\Roaming\\nltk_data...\n",
      "[nltk_data]   Package gutenberg is already up-to-date!\n"
     ]
    }
   ],
   "source": [
    "dictionary = phonetic.PhoneticDictionary()\n",
    "nltk.download('gutenberg')\n",
    "dictionary.import_file(\"data/cmudict/cmudict-0.7b\")"
   ]
  },
  {
   "cell_type": "code",
   "execution_count": 4,
   "metadata": {
    "collapsed": false
   },
   "outputs": [],
   "source": [
    "importlib.reload(corpus)\n",
    "\n",
    "template = \"I know a song that gets on everybody's nerves, everybody's \\\n",
    "nerves, everybody's nerves. Oh, I know a song that gets on everybody's nerves \\\n",
    "and this is how it goes oh oh oh\"\n",
    "\n",
    "def get_rhythm_string(template, dictionary):\n",
    "    \n",
    "    wordstrings = template.split()\n",
    "    wordlengths = np.zeros(len(wordstrings),dtype=np.int)\n",
    "    nonos = string.punctuation + '0123456789'\n",
    "    meter = []\n",
    "\n",
    "    for i in range(len(wordstrings)):\n",
    "        wordstring = wordstrings[i].strip(nonos).lower()\n",
    "        word = dictionary.lookup(wordstring)\n",
    "        wordlengths[i] = len(word.rhythm)\n",
    "        meter.extend(word.rhythm)\n",
    "    \n",
    "    return wordlengths, np.array(meter)"
   ]
  },
  {
   "cell_type": "code",
   "execution_count": 133,
   "metadata": {
    "collapsed": false
   },
   "outputs": [
    {
     "name": "stdout",
     "output_type": "stream",
     "text": [
      "Input text: 28 words, 16 unique\n",
      "Template rhythm:  How does a bastard, orphan, son of a whore and a scotsman, dropped \tin the middle of a forgotten spot in the caribbean in providence impoverished \tin squalor, grow up to be a hero and a scholar?\n",
      "probabilities do not sum to 1-try anything\n",
      "\n",
      "Sample:  is how it DAda DAda know a song that gets on DAda nerves oh i DAda a song daDAda gets on da daDADAda oh DAdada DADAda a DAda that gets on DA nerves DAda nerves oh DAda\n"
     ]
    }
   ],
   "source": [
    "importlib.reload(corpus)\n",
    "importlib.reload(phonetic)\n",
    "importlib.reload(generate_sample)\n",
    "importlib.reload(verse)\n",
    "\n",
    "corp = corpus.WordCorpus(dictionary)\n",
    "corp.initialize(\"I know a song that gets on everybody's nerves, everybody's \\\n",
    "nerves, everybody's nerves, oh, I know a song that gets on everybody's nerves\\\n",
    "and this is how it goes\", is_filename=False)\n",
    "\n",
    "template = verse.get_sample(1)\n",
    "print(\"Template rhythm: \", template)\n",
    "\n",
    "wordlengths, rhythm = get_rhythm_string(template, dictionary)\n",
    "print(\"\\nSample: \", generate_sample.generate_verse(corp, wordlengths, rhythm))"
   ]
  },
  {
   "cell_type": "code",
   "execution_count": 134,
   "metadata": {
    "collapsed": false
   },
   "outputs": [
    {
     "name": "stdout",
     "output_type": "stream",
     "text": [
      "Input text: 547 words, 256 unique\n",
      "Template rhythm:  How does a bastard, orphan, son of a whore and a scotsman, dropped \tin the middle of a forgotten spot in the caribbean in providence impoverished \tin squalor, grow up to be a hero and a scholar?\n",
      "\n",
      "Sample:  him and a bastard orphan son of a whore and a hero and a whore DAda a lot daDAda by da da daDADAda the DAdada DADAda da father got a lot DA by working a whore DAda\n"
     ]
    }
   ],
   "source": [
    "importlib.reload(corpus)\n",
    "importlib.reload(phonetic)\n",
    "importlib.reload(generate_sample)\n",
    "importlib.reload(verse)\n",
    "\n",
    "corp = corpus.WordCorpus(dictionary)\n",
    "corp.initialize(\"alexander_hamilton.txt\")\n",
    "\n",
    "template = verse.get_sample(1)\n",
    "print(\"Template rhythm: \", template)\n",
    "\n",
    "wordlengths, rhythm = get_rhythm_string(template, dictionary)\n",
    "print(\"\\nSample: \", generate_sample.generate_verse(corp, wordlengths, rhythm))"
   ]
  },
  {
   "cell_type": "code",
   "execution_count": 120,
   "metadata": {
    "collapsed": false
   },
   "outputs": [
    {
     "name": "stdout",
     "output_type": "stream",
     "text": [
      "Input text: 190529 words, 7096 unique\n"
     ]
    }
   ],
   "source": [
    "importlib.reload(corpus)\n",
    "importlib.reload(phonetic)\n",
    "importlib.reload(generate_sample)\n",
    "importlib.reload(verse)\n",
    "\n",
    "corp = corpus.WordCorpus(dictionary)\n",
    "emma = nltk.corpus.gutenberg.words('austen-emma.txt')\n",
    "emma = \" \".join(emma)\n",
    "corp.initialize(emma, is_filename=False)"
   ]
  },
  {
   "cell_type": "code",
   "execution_count": 121,
   "metadata": {
    "collapsed": false
   },
   "outputs": [
    {
     "name": "stdout",
     "output_type": "stream",
     "text": [
      "Template rhythm:  How does a bastard, orphan, son of a whore and a scotsman, dropped \tin the middle of a forgotten spot in the caribbean in providence impoverished \tin squalor, grow up to be a hero and a scholar?\n",
      "\n",
      "Sample:  i have a very handsome i was a most she had rather i have i never to the idea jane jane the daDADAda and DAdada DADAda her very much i was i had longer i had only\n"
     ]
    }
   ],
   "source": [
    "template = verse.get_sample(1)\n",
    "print(\"Template rhythm: \", template)\n",
    "\n",
    "wordlengths, rhythm = get_rhythm_string(template, dictionary)\n",
    "print(\"\\nSample: \", generate_sample.generate_verse(corp, wordlengths, rhythm))"
   ]
  },
  {
   "cell_type": "code",
   "execution_count": null,
   "metadata": {
    "collapsed": true
   },
   "outputs": [],
   "source": []
  }
 ],
 "metadata": {
  "kernelspec": {
   "display_name": "Python 3",
   "language": "python",
   "name": "python3"
  },
  "language_info": {
   "codemirror_mode": {
    "name": "ipython",
    "version": 3
   },
   "file_extension": ".py",
   "mimetype": "text/x-python",
   "name": "python",
   "nbconvert_exporter": "python",
   "pygments_lexer": "ipython3",
   "version": "3.6.2"
  }
 },
 "nbformat": 4,
 "nbformat_minor": 0
}
