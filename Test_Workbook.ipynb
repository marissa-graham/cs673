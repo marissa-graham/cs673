{
 "cells": [
  {
   "cell_type": "markdown",
   "metadata": {
    "collapsed": false
   },
   "source": [
    "https://www.python.org/downloads/release/python-364/"
   ]
  },
  {
   "cell_type": "code",
   "execution_count": 22,
   "metadata": {
    "collapsed": false
   },
   "outputs": [],
   "source": [
    "import phonetic\n",
    "import corpus\n",
    "import generate_sample\n",
    "\n",
    "import re\n",
    "import importlib\n",
    "import string\n",
    "import numpy as np\n",
    "from scipy import sparse"
   ]
  },
  {
   "cell_type": "code",
   "execution_count": 23,
   "metadata": {
    "collapsed": true
   },
   "outputs": [],
   "source": [
    "dictionary = phonetic.PhoneticDictionary()\n",
    "dictionary.import_file(\"data/cmudict/cmudict-0.7b\")"
   ]
  },
  {
   "cell_type": "code",
   "execution_count": 59,
   "metadata": {
    "collapsed": false
   },
   "outputs": [
    {
     "name": "stdout",
     "output_type": "stream",
     "text": [
      "Calculate the !#2transition... probabilities for of text, and use george don't generate options for new text.\n",
      "['Calculate', 'the', '!#2transition...', 'probabilities', 'for', 'of', 'text,', 'and', 'use', 'george', \"don't\", 'generate', 'options', 'for', 'new', 'text.']\n",
      "{<phonetic.Word object at 0x0000022754C6BA20>, <phonetic.Word object at 0x0000022754FB9828>, <phonetic.Word object at 0x0000022753378630>, <phonetic.Word object at 0x0000022755D61668>, <phonetic.Word object at 0x0000022755CF71D0>, <phonetic.Word object at 0x000002275534BAC8>, <phonetic.Word object at 0x0000022751BE90F0>, <phonetic.Word object at 0x0000022751B20B00>, <phonetic.Word object at 0x0000022753526D30>, <phonetic.Word object at 0x00000227535DED68>, <phonetic.Word object at 0x0000022751BC8DD8>, <phonetic.Word object at 0x00000227537D51D0>, <phonetic.Word object at 0x0000022754C78FD0>, <phonetic.Word object at 0x0000022754DA15F8>}\n"
     ]
    }
   ],
   "source": [
    "importlib.reload(corpus)\n",
    "\n",
    "\n",
    "corp_string = \"Calculate the probabilities for the of text,\\\n",
    " and use george don't generate options for new text.\"\n",
    "\n",
    "print(corp_string)\n",
    "print(corp_string.split())\n",
    "\n",
    "wordstrings = corp_string.split()\n",
    "nonos = string.punctuation+'0123456789'\n",
    "\n",
    "words = []\n",
    "for word in wordstrings:\n",
    "    word = word.strip(nonos)\n",
    "    words.append(dictionary.lookup(word))\n",
    "\n",
    "\n",
    "print(set(words))"
   ]
  },
  {
   "cell_type": "code",
   "execution_count": null,
   "metadata": {
    "collapsed": true
   },
   "outputs": [],
   "source": []
  }
 ],
 "metadata": {
  "kernelspec": {
   "display_name": "Python 3",
   "language": "python",
   "name": "python3"
  },
  "language_info": {
   "codemirror_mode": {
    "name": "ipython",
    "version": 3
   },
   "file_extension": ".py",
   "mimetype": "text/x-python",
   "name": "python",
   "nbconvert_exporter": "python",
   "pygments_lexer": "ipython3",
   "version": "3.6.2"
  }
 },
 "nbformat": 4,
 "nbformat_minor": 0
}
