{
 "cells": [
  {
   "cell_type": "markdown",
   "metadata": {
    "collapsed": false
   },
   "source": [
    "https://www.python.org/downloads/release/python-364/"
   ]
  },
  {
   "cell_type": "code",
   "execution_count": 205,
   "metadata": {
    "collapsed": false
   },
   "outputs": [],
   "source": [
    "import phonetic\n",
    "import corpus\n",
    "import generate_sample\n",
    "\n",
    "import re\n",
    "import importlib\n",
    "import string\n",
    "import seaborn\n",
    "import numpy as np\n",
    "from scipy import sparse\n",
    "from matplotlib import pyplot as plt\n",
    "%matplotlib inline"
   ]
  },
  {
   "cell_type": "code",
   "execution_count": 117,
   "metadata": {
    "collapsed": true
   },
   "outputs": [],
   "source": [
    "dictionary = phonetic.PhoneticDictionary()\n",
    "dictionary.import_file(\"data/cmudict/cmudict-0.7b\")"
   ]
  },
  {
   "cell_type": "code",
   "execution_count": 200,
   "metadata": {
    "collapsed": false
   },
   "outputs": [
    {
     "name": "stdout",
     "output_type": "stream",
     "text": [
      "Input text: 32 words, 16 unique\n",
      "\n",
      "Word indices:\n",
      " {'i': 0, 'know': 1, 'a': 2, 'song': 3, 'that': 4, 'gets': 5, 'on': 6, \"everybody's\": 7, 'nerves': 8, 'oh': 9, 'and': 10, 'this': 11, 'is': 12, 'how': 13, 'it': 14, 'goes': 15}\n",
      "\n",
      "Transition sequence:\n",
      " [ 0.  1.  2.  3.  4.  5.  6.  7.  8.  7.  8.  7.  8.  9.  0.  1.  2.  3.\n",
      "  4.  5.  6.  7.  8. 10. 11. 12. 13. 14. 15.  9.  9.  9.]\n",
      "\n",
      "Transition matrix:\n",
      "\n"
     ]
    },
    {
     "data": {
      "image/png": "[encoded data removed]",
      "text/plain": [
       "<matplotlib.figure.Figure at 0x22755bfff60>"
      ]
     },
     "metadata": {},
     "output_type": "display_data"
    },
    {
     "name": "stdout",
     "output_type": "stream",
     "text": [
      "\n",
      " it goes oh oh oh i know a song that gets on everybody's nerves everybody's nerves everybody's nerves oh oh oh oh i know a song that gets on everybody's nerves oh oh oh oh oh i know a song that gets on everybody's nerves oh i know a song that gets on everybody's nerves everybody's nerves everybody's nerves everybody's nerves and this is how it goes oh oh i know a song that gets on everybody's nerves everybody's nerves everybody's nerves and this is how it goes oh oh oh oh i know a song that gets on everybody's\n"
     ]
    }
   ],
   "source": [
    "importlib.reload(corpus)\n",
    "\n",
    "corp_string = \"I know a song that gets on everybody's nerves, everybody's \\\n",
    "nerves, everybody's nerves. Oh, I know a song that gets on everybody's nerves \\\n",
    "and this is how it goes oh-oh-oh\"\n",
    "\n",
    "corp = corpus.WordCorpus(dictionary)\n",
    "corp.initialize(corp_string, is_filename=False)\n",
    "corp.generate_babble(100)"
   ]
  },
  {
   "cell_type": "code",
   "execution_count": 204,
   "metadata": {
    "collapsed": false
   },
   "outputs": [
    {
     "name": "stdout",
     "output_type": "stream",
     "text": [
      "Input text: 547 words, 256 unique\n",
      "\n",
      "Transition matrix:\n",
      "\n"
     ]
    },
    {
     "data": {
      "image/png": "[encoded data removed]",
      "text/plain": [
       "<matplotlib.figure.Figure at 0x22755fa0048>"
      ]
     },
     "metadata": {},
     "output_type": "display_data"
    },
    {
     "name": "stdout",
     "output_type": "stream",
     "text": [
      "\n",
      " things he can't afford scam ing for yourself he struggled and carted away across the caribbean by fourteen they said this kid is alexander hamilton when america sings for him now as he struggled and all the future see alex you can get his brain and alex got around they know you will never be a testament to the cousin committed suicide left to take your name is alexander hamilton and all the word got a new land in their own sick the things he wrote his brain and he would have been dead or barter then a bastard orphan\n"
     ]
    }
   ],
   "source": [
    "importlib.reload(corpus)\n",
    "\n",
    "corp = corpus.WordCorpus(dictionary)\n",
    "corp.initialize(\"alexander_hamilton.txt\")\n",
    "corp.generate_babble(100)"
   ]
  },
  {
   "cell_type": "code",
   "execution_count": 225,
   "metadata": {
    "collapsed": false
   },
   "outputs": [
    {
     "name": "stdout",
     "output_type": "stream",
     "text": [
      "Input text: 547 words, 256 unique\n"
     ]
    },
    {
     "data": {
      "image/png": "[encoded data removed]",
      "text/plain": [
       "<matplotlib.figure.Figure at 0x22755273ba8>"
      ]
     },
     "metadata": {},
     "output_type": "display_data"
    },
    {
     "name": "stdout",
     "output_type": "stream",
     "text": [
      "you came and the shelf there would have been dead\n"
     ]
    }
   ],
   "source": [
    "importlib.reload(corpus)\n",
    "importlib.reload(generate_sample)\n",
    "\n",
    "corp = corpus.WordCorpus(dictionary)\n",
    "corp.initialize(\"alexander_hamilton.txt\")\n",
    "\n",
    "template = np.zeros(10)\n",
    "generate_sample.generate_verse(corp, template)"
   ]
  },
  {
   "cell_type": "code",
   "execution_count": null,
   "metadata": {
    "collapsed": true
   },
   "outputs": [],
   "source": []
  }
 ],
 "metadata": {
  "kernelspec": {
   "display_name": "Python 3",
   "language": "python",
   "name": "python3"
  },
  "language_info": {
   "codemirror_mode": {
    "name": "ipython",
    "version": 3
   },
   "file_extension": ".py",
   "mimetype": "text/x-python",
   "name": "python",
   "nbconvert_exporter": "python",
   "pygments_lexer": "ipython3",
   "version": "3.6.2"
  }
 },
 "nbformat": 4,
 "nbformat_minor": 0
}
