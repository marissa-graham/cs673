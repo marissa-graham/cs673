{
 "cells": [
  {
   "cell_type": "markdown",
   "metadata": {},
   "source": [
    "https://www.python.org/downloads/release/python-364/"
   ]
  },
  {
   "cell_type": "code",
   "execution_count": 378,
   "metadata": {
    "collapsed": false
   },
   "outputs": [],
   "source": [
    "import phonetic\n",
    "import corpus\n",
    "import generate_sample\n",
    "import verse\n",
    "import re\n",
    "import nltk\n",
    "import importlib\n",
    "import string\n",
    "import seaborn\n",
    "import numpy as np\n",
    "from scipy import sparse\n",
    "from matplotlib import pyplot as plt\n",
    "%matplotlib inline"
   ]
  },
  {
   "cell_type": "code",
   "execution_count": 6,
   "metadata": {
    "collapsed": false
   },
   "outputs": [
    {
     "name": "stdout",
     "output_type": "stream",
     "text": [
      "[nltk_data] Downloading package cmudict to\n",
      "[nltk_data]     C:\\Users\\Marissa\\AppData\\Roaming\\nltk_data...\n",
      "[nltk_data]   Package cmudict is already up-to-date!\n",
      "[nltk_data] Downloading package gutenberg to\n",
      "[nltk_data]     C:\\Users\\Marissa\\AppData\\Roaming\\nltk_data...\n",
      "[nltk_data]   Package gutenberg is already up-to-date!\n"
     ]
    }
   ],
   "source": [
    "nltk.download('cmudict')\n",
    "nltk.download('gutenberg')\n",
    "dictionary = phonetic.PhoneticDictionary()\n",
    "dictionary.import_file(\"data/cmudict/cmudict-0.7b\")"
   ]
  },
  {
   "cell_type": "code",
   "execution_count": 47,
   "metadata": {
    "collapsed": false
   },
   "outputs": [
    {
     "name": "stdout",
     "output_type": "stream",
     "text": [
      "Corpus text: 547 words, 256 unique\n",
      "Need to add 0 words using LOGIOS\n",
      "\n",
      "Template length:  53 syllables, 37 words\n",
      "\n",
      "Template:\n",
      " How does a bastard, orphan, son of a whore and a scotsman, dropped \tin the middle of a forgotten spot in the caribbean in providence \timpoverished in squalor, grow up to be a hero and a scholar?\n",
      "\n",
      "Stress pattern:\n",
      " [1 1 0 1 0 1 0 1 1 0 1 0 0 1 0 1 0 0 1 0 1 0 0 1 0 1 0 0 0 1 0 0 0 1 0 0 0\n",
      " 1 0 0 1 0 1 1 1 1 0 1 0 0 0 1 0]\n",
      "\n",
      "Percentile for cutoff: 98.0\n",
      "Nonzeros before cutoff: 236\n",
      "Cutoff score:  0.9533233539410668\n",
      "\n",
      "Pairs to match (7):\n",
      "  95.9 % match: syllable 2 of orphan + syllable 3 of forgotten\n",
      "  96.7 % match: syllable 2 of scotsman + syllable 3 of forgotten\n",
      "  95.8 % match: syllable 2 of forgotten + syllable 1 of spot\n",
      "  95.3 % match: syllable 1 of caribbean + syllable 2 of squalor\n",
      "  95.3 % match: syllable 1 of caribbean + syllable 2 of scholar\n",
      "  96.3 % match: syllable 1 of squalor + syllable 1 of scholar\n",
      "  100.0 % match: syllable 2 of squalor + syllable 2 of scholar\n"
     ]
    },
    {
     "data": {
      "image/png": "[encoded data removed]",
      "text/plain": [
       "<matplotlib.figure.Figure at 0x2054ac930f0>"
      ]
     },
     "metadata": {},
     "output_type": "display_data"
    }
   ],
   "source": [
    "importlib.reload(corpus)\n",
    "importlib.reload(phonetic)\n",
    "importlib.reload(generate_sample)\n",
    "importlib.reload(verse)\n",
    "\n",
    "corp = corpus.WordCorpus(dictionary)\n",
    "corp.initialize(\"alexander_hamilton.txt\")\n",
    "\n",
    "template = verse.VerseTemplate(verse.get_sample(1), dictionary)\n",
    "template.get_rhyme(verbose=True)\n",
    "plt.spy(template.rhyme_matrix)\n",
    "plt.show()"
   ]
  },
  {
   "cell_type": "code",
   "execution_count": 413,
   "metadata": {
    "collapsed": false,
    "scrolled": false
   },
   "outputs": [
    {
     "name": "stdout",
     "output_type": "stream",
     "text": [
      "unknowns filename: alexander_hamilton_unknowns.txt\n",
      "Corpus text: 547 words, 256 unique\n",
      "\n",
      "Template text: How does a bastard, orphan, son of a whore and a scotsman, dropped in the middle of a forgotten spot in the caribbean in providence impoverished in squalor, grow up to be a hero and a scholar?\n",
      "\n",
      "Number of syllables in template:  53\n",
      "\n",
      "Initial template bones: # # / # / orphan # # / whore / / # / # / / # / # / / # / # / / / # / / / # / / / # / / squalor # # # # / # / / / scholar \n",
      "\n",
      "Results:\n",
      "\n",
      " # # / # / orphan son # a whore and the cousin the damn fool that shot him and a pencil # word got around they said this left him we are waiting in squalor grow up from whence a hero and a scholar \n",
      "\n",
      " # # / # / orphan son # a whore and all the ten his guard up from the bow of / charter and rum and a self starter by providence impoverished in squalor grow up from whence fend coming up a scholar \n",
      "\n",
      " # # / # / orphan son # a whore and he struggled and a lot farther by oh the middle of been dead by working a part of a been dead sitting in squalor grow up from whence late coming up a scholar \n"
     ]
    }
   ],
   "source": [
    "importlib.reload(corpus)\n",
    "importlib.reload(phonetic)\n",
    "importlib.reload(generate_sample)\n",
    "importlib.reload(verse)\n",
    "\n",
    "corp = corpus.WordCorpus(dictionary)\n",
    "corp.initialize(\"alexander_hamilton.txt\")\n",
    "corp.initializeMatrix()\n",
    "\n",
    "to_add = [4, 8, 27, 36]\n",
    "\n",
    "def make_template():\n",
    "\n",
    "    template = verse.VerseTemplate(verse.get_sample(1), dictionary)\n",
    "    template.get_rhyme()\n",
    "    for i in to_add:\n",
    "        template.add_word(template.wordList[i], template.syllable_indices[i])\n",
    "    return template\n",
    "        \n",
    "template = make_template()\n",
    "print(\"\\nTemplate text:\", verse.get_sample(1))\n",
    "print(\"\\nNumber of syllables in template: \", template.num_syllables)\n",
    "print(\"\\nInitial template bones:\", template.join_template())\n",
    "print(\"\\nResults:\")\n",
    "for j in range(3):\n",
    "    print('\\n',generate_sample.fill_template(corp, make_template()))"
   ]
  },
  {
   "cell_type": "code",
   "execution_count": 402,
   "metadata": {
    "collapsed": false
   },
   "outputs": [
    {
     "name": "stdout",
     "output_type": "stream",
     "text": [
      "unknowns filename: /Users/Marissa/cs673/lyrics/nicki_minaj/Anaconda_unknowns.txt\n",
      "Corpus text: 623 words, 179 unique\n",
      "\n",
      "Template text: My mistress eyes' are nothing like the sun.\n",
      "\tCoral is far more red than her lips red.\n",
      "\tIf snow be white, why then her breasts are dun.\n",
      "\tIf hair be wires, black wires grow on her head.\n",
      "\n",
      "Number of words in template: 37\n",
      "\n",
      "Number of syllables in template:  42\n",
      "\n",
      "Initial template bones: my # / # # # / # / dumb # / # # # # # / # some # # # # # # / # # kill # # # # / # # / # chill / # \n",
      "\n",
      "Results:\n",
      "\n",
      " my bitches what yeah # i'm on some dumb shit by the law # a pill i'm on some coins was in my # named troy used to kill who come on some / named troy used to chill / # \n",
      "\n",
      " my purse bitch i make pill i'm on some dumb shit by the big # a pill i'm on some coins was in a # named troy used to kill who see all the / named troy used to chill / # \n",
      "\n",
      " my god look at look pill i'm on some dumb shit by the law # a pill i'm on some coins was in my # named troy used to kill who half a tower named troy used to chill / # \n"
     ]
    }
   ],
   "source": [
    "importlib.reload(corpus)\n",
    "importlib.reload(phonetic)\n",
    "importlib.reload(generate_sample)\n",
    "importlib.reload(verse)\n",
    "\n",
    "corp = corpus.WordCorpus(dictionary)\n",
    "corp.initialize(\"/Users/Marissa/cs673/lyrics/nicki_minaj/Anaconda.txt\")\n",
    "corp.initializeMatrix()\n",
    "corp.add_unknowns(\"/Users/Marissa/cs673/lyrics/nicki_minaj/Anaconda_LOGIOS.txt\")\n",
    "\n",
    "to_add = []\n",
    "for w in [\"my\",\"dumb\",\"some\",\"kill\",\"chill\"]:\n",
    "    to_add.append(corp.wordDict[w])\n",
    "locs = [0,9,19,29,39]\n",
    "\n",
    "def make_template():\n",
    "\n",
    "    template = verse.VerseTemplate(verse.get_sample(6), dictionary)\n",
    "    template.get_rhyme()\n",
    "    for i in range(len(to_add)):\n",
    "        template.add_word(corp.wordList[to_add[i]], locs[i])\n",
    "    return template\n",
    "  \n",
    "template = make_template()\n",
    "print(\"\\nTemplate text:\", verse.get_sample(6))\n",
    "print(\"\\nNumber of words in template:\", len(template.wordList))\n",
    "print(\"\\nNumber of syllables in template: \", template.num_syllables)\n",
    "print(\"\\nInitial template bones:\", template.join_template())\n",
    "print(\"\\nResults:\")\n",
    "\n",
    "for j in range(3):\n",
    "    print('\\n',generate_sample.fill_template(corp, make_template()))"
   ]
  },
  {
   "cell_type": "code",
   "execution_count": 418,
   "metadata": {
    "collapsed": false
   },
   "outputs": [
    {
     "name": "stdout",
     "output_type": "stream",
     "text": [
      "unknowns filename: corpus_unknowns.txt\n",
      "Corpus text: 48 words, 32 unique\n",
      "[[0.  1.  0.  ... 0.  0.  0. ]\n",
      " [0.  0.  1.  ... 0.  0.  0. ]\n",
      " [0.  0.  0.  ... 0.  0.  0. ]\n",
      " ...\n",
      " [0.  0.  0.  ... 0.  1.  0. ]\n",
      " [0.  0.  0.  ... 0.5 0.  0.5]\n",
      " [0.  0.  0.  ... 0.  0.  0. ]]\n",
      "20 16\n",
      "0\n",
      "[]\n"
     ]
    }
   ],
   "source": [
    "corp = corpus.WordCorpus(dictionary)\n",
    "corp.initialize(verse.get_sample(4), is_filename=False)\n",
    "corp.initializeMatrix()\n",
    "print(corp.A_forward)\n",
    "print(corp.wordDict[\"your\"], corp.wordDict[\"you\"])\n",
    "followsleft = np.where(corp.A_forward[22,:]>0)\n",
    "rightfollows = np.where(corp.A_forward[:,16]>0)\n",
    "print(np.intersect1d(followsleft, rightfollows).size)\n",
    "print(np.zeros(0))"
   ]
  },
  {
   "cell_type": "code",
   "execution_count": null,
   "metadata": {
    "collapsed": true
   },
   "outputs": [],
   "source": []
  }
 ],
 "metadata": {
  "kernelspec": {
   "display_name": "Python 3",
   "language": "python",
   "name": "python3"
  },
  "language_info": {
   "codemirror_mode": {
    "name": "ipython",
    "version": 3
   },
   "file_extension": ".py",
   "mimetype": "text/x-python",
   "name": "python",
   "nbconvert_exporter": "python",
   "pygments_lexer": "ipython3",
   "version": "3.6.2"
  }
 },
 "nbformat": 4,
 "nbformat_minor": 1
}
