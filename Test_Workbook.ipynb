{
 "cells": [
  {
   "cell_type": "markdown",
   "metadata": {
    "collapsed": false
   },
   "source": [
    "https://www.python.org/downloads/release/python-364/"
   ]
  },
  {
   "cell_type": "code",
   "execution_count": 116,
   "metadata": {
    "collapsed": false
   },
   "outputs": [],
   "source": [
    "import phonetic\n",
    "import corpus\n",
    "import generate_sample\n",
    "\n",
    "import re\n",
    "import importlib\n",
    "import string\n",
    "import seaborn\n",
    "import numpy as np\n",
    "from scipy import sparse\n",
    "from matplotlib import pyplot as plt\n",
    "%matplotlib inline"
   ]
  },
  {
   "cell_type": "code",
   "execution_count": 117,
   "metadata": {
    "collapsed": true
   },
   "outputs": [],
   "source": [
    "dictionary = phonetic.PhoneticDictionary()\n",
    "dictionary.import_file(\"data/cmudict/cmudict-0.7b\")"
   ]
  },
  {
   "cell_type": "code",
   "execution_count": 180,
   "metadata": {
    "collapsed": false
   },
   "outputs": [
    {
     "name": "stdout",
     "output_type": "stream",
     "text": [
      "Raw corp_string: I know a song that gets on everybody's nerves, everybody's nerves, everybody's nerves. Oh, I know a song that gets on everybody's nerves and this is how it goes oh-oh-oh\n",
      "\n",
      "Tidied corp_string: I know a song that gets on everybody's nerves, everybody's nerves, everybody's nerves. Oh, I know a song that gets on everybody's nerves and this is how it goes oh oh oh\n",
      "\n",
      "Input text ( 32 words ):\n",
      " I know a song that gets on everybody's nerves, everybody's nerves, everybody's nerves. Oh, I know a song that gets on everybody's nerves and this is how it goes oh oh oh\n",
      "\n",
      " 16  unique words:\n",
      " {'i': 0, 'know': 1, 'a': 2, 'song': 3, 'that': 4, 'gets': 5, 'on': 6, \"everybody's\": 7, 'nerves': 8, 'oh': 9, 'and': 10, 'this': 11, 'is': 12, 'how': 13, 'it': 14, 'goes': 15}\n",
      "\n",
      "Index sequence:\n",
      " [ 0.  1.  2.  3.  4.  5.  6.  7.  8.  7.  8.  7.  8.  9.  0.  1.  2.  3.\n",
      "  4.  5.  6.  7.  8. 10. 11. 12. 13. 14. 15.  9.  9.  9.]\n",
      "\n",
      " I KNOW A SONG THAT GETS ON EVERYBODY'S NERVES EVERYBODY'S NERVES EVERYBODY'S NERVES OH I KNOW A SONG THAT GETS ON EVERYBODY'S NERVES AND THIS IS HOW IT GOES OH OH I KNOW A SONG THAT GETS ON EVERYBODY'S NERVES EVERYBODY'S NERVES AND THIS IS HOW IT GOES OH OH I KNOW A SONG THAT GETS ON EVERYBODY'S NERVES EVERYBODY'S NERVES EVERYBODY'S NERVES EVERYBODY'S NERVES EVERYBODY'S NERVES EVERYBODY'S NERVES EVERYBODY'S NERVES AND THIS IS HOW IT GOES OH I KNOW A SONG THAT GETS ON EVERYBODY'S NERVES OH OH OH OH OH I KNOW A SONG THAT GETS ON EVERYBODY'S\n"
     ]
    }
   ],
   "source": [
    "importlib.reload(corpus)\n",
    "\n",
    "corp_string = \"I know a song that gets on everybody's nerves, everybody's \\\n",
    "nerves, everybody's nerves. Oh, I know a song that gets on everybody's nerves \\\n",
    "and this is how it goes oh-oh-oh\"\n",
    "\n",
    "corp = corpus.WordCorpus(dictionary)\n",
    "corp.initialize(corp_string, is_filename=False)\n",
    "corp.generate_babble(100)"
   ]
  },
  {
   "cell_type": "code",
   "execution_count": 192,
   "metadata": {
    "collapsed": false
   },
   "outputs": [
    {
     "name": "stdout",
     "output_type": "stream",
     "text": [
      "\n",
      "Input text: 547 words, 256 unique\n",
      "\n",
      " HOW DOES A NEW MAN IN NEW MAN SAW HIS MOTHER BED RIDDEN HALF DEAD SITTING IN THE BOTTOM HIS PAIN WELL THE BROTHER WAS READY TO HIS REP AMERICA SINGS FOR THE HARBOR NOW SEE ALEX AND HE STANDS ON THE FUTURE SEE ALEX AND THERE'S A SHIP IS INSANE MAN TOOK UP A MILLION THINGS I HAVEN'T DONE BUT RUINED PRIDE SOMETHING TO BE THE THINGS I LOVED HIM ANOTHER IMMIGRANT COMING UP A NEW YORK YOU CAN BE A MILLION THINGS I HAVEN'T DONE BUT JUST YOU COULD NEVER LEARNED TO BE A SHIP IS GONNA KNOW\n"
     ]
    }
   ],
   "source": [
    "importlib.reload(corpus)\n",
    "\n",
    "corp = corpus.WordCorpus(dictionary)\n",
    "corp.initialize(\"alexander_hamilton.txt\")\n",
    "corp.generate_babble(100)"
   ]
  },
  {
   "cell_type": "code",
   "execution_count": null,
   "metadata": {
    "collapsed": true
   },
   "outputs": [],
   "source": []
  }
 ],
 "metadata": {
  "kernelspec": {
   "display_name": "Python 3",
   "language": "python",
   "name": "python3"
  },
  "language_info": {
   "codemirror_mode": {
    "name": "ipython",
    "version": 3
   },
   "file_extension": ".py",
   "mimetype": "text/x-python",
   "name": "python",
   "nbconvert_exporter": "python",
   "pygments_lexer": "ipython3",
   "version": "3.6.2"
  }
 },
 "nbformat": 4,
 "nbformat_minor": 0
}
