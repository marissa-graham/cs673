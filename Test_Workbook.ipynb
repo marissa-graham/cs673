{
 "cells": [
  {
   "cell_type": "markdown",
   "metadata": {
    "collapsed": false
   },
   "source": [
    "https://www.python.org/downloads/release/python-364/"
   ]
  },
  {
   "cell_type": "code",
   "execution_count": 205,
   "metadata": {
    "collapsed": false
   },
   "outputs": [],
   "source": [
    "import phonetic\n",
    "import corpus\n",
    "import generate_sample\n",
    "\n",
    "import re\n",
    "import importlib\n",
    "import string\n",
    "import seaborn\n",
    "import numpy as np\n",
    "from scipy import sparse\n",
    "from matplotlib import pyplot as plt\n",
    "%matplotlib inline"
   ]
  },
  {
   "cell_type": "code",
   "execution_count": 239,
   "metadata": {
    "collapsed": false
   },
   "outputs": [],
   "source": [
    "importlib.reload(phonetic)\n",
    "dictionary = phonetic.PhoneticDictionary()\n",
    "dictionary.import_file(\"data/cmudict/cmudict-0.7b\")"
   ]
  },
  {
   "cell_type": "code",
   "execution_count": 200,
   "metadata": {
    "collapsed": false
   },
   "outputs": [
    {
     "name": "stdout",
     "output_type": "stream",
     "text": [
      "Input text: 32 words, 16 unique\n",
      "\n",
      "Word indices:\n",
      " {'i': 0, 'know': 1, 'a': 2, 'song': 3, 'that': 4, 'gets': 5, 'on': 6, \"everybody's\": 7, 'nerves': 8, 'oh': 9, 'and': 10, 'this': 11, 'is': 12, 'how': 13, 'it': 14, 'goes': 15}\n",
      "\n",
      "Transition sequence:\n",
      " [ 0.  1.  2.  3.  4.  5.  6.  7.  8.  7.  8.  7.  8.  9.  0.  1.  2.  3.\n",
      "  4.  5.  6.  7.  8. 10. 11. 12. 13. 14. 15.  9.  9.  9.]\n",
      "\n",
      "Transition matrix:\n",
      "\n"
     ]
    },
    {
     "data": {
      "image/png": "[encoded data removed]",
      "text/plain": [
       "<matplotlib.figure.Figure at 0x22755bfff60>"
      ]
     },
     "metadata": {},
     "output_type": "display_data"
    },
    {
     "name": "stdout",
     "output_type": "stream",
     "text": [
      "\n",
      " it goes oh oh oh i know a song that gets on everybody's nerves everybody's nerves everybody's nerves oh oh oh oh i know a song that gets on everybody's nerves oh oh oh oh oh i know a song that gets on everybody's nerves oh i know a song that gets on everybody's nerves everybody's nerves everybody's nerves everybody's nerves and this is how it goes oh oh i know a song that gets on everybody's nerves everybody's nerves everybody's nerves and this is how it goes oh oh oh oh i know a song that gets on everybody's\n"
     ]
    }
   ],
   "source": [
    "importlib.reload(corpus)\n",
    "\n",
    "corp_string = \"I know a song that gets on everybody's nerves, everybody's \\\n",
    "nerves, everybody's nerves. Oh, I know a song that gets on everybody's nerves \\\n",
    "and this is how it goes oh-oh-oh\"\n",
    "\n",
    "corp = corpus.WordCorpus(dictionary)\n",
    "corp.initialize(corp_string, is_filename=False)\n",
    "corp.generate_babble(100)"
   ]
  },
  {
   "cell_type": "code",
   "execution_count": 303,
   "metadata": {
    "collapsed": false
   },
   "outputs": [
    {
     "name": "stdout",
     "output_type": "stream",
     "text": [
      "Input text: 32 words, 16 unique\n",
      "\n",
      "Original rhythm: Row, row, row your boat, gently down the stream, merrily, merrily, merrily, merrily, life is but a dream\n",
      "\n",
      "Results:\n",
      "   that gets on da da da da nerves oh i know a song that gets on da da da da nerves oh i know a song that\n",
      "   a song that gets on da da da da nerves oh i know a song that gets on da da da da nerves oh i know a\n",
      "   nerves oh i know a song that gets on da da da da nerves oh i know a song that gets on da da da da nerves\n",
      "   that gets on da da da da nerves oh i know a song that gets on da da da da nerves oh i know a song that\n",
      "   know a song that gets on da da da da nerves oh i know a song that gets on da da da da nerves oh i know\n",
      "\n",
      "Original rhythm: Alexander Hamilton, my name is Alexander Hamilton\n",
      "\n",
      "Results:\n",
      "   a song that gets on da da da da nerves oh i know a song that gets\n",
      "   oh i know a song that gets on da da da da nerves oh i know a\n",
      "   this is how it goes oh i know a song that gets on da da da da\n",
      "   i know a song that gets on da da da da nerves oh i know a song\n",
      "   oh i know a song that gets on da da da da nerves oh i know a\n",
      "Input text: 547 words, 256 unique\n",
      "\n",
      " alexander hamilton and devastation reigned our man in the mainland get his mother went quick moved in squalor grow up from the same oh alexander hamilton we are waiting in new land in the bottom his father without a been nothin left to the word got around they placed him there's a scholar the word got a new man in the brother was ten dollar founding father got a hero and a been dead sitting in the things i loved him me i haven't done but ruined pride something new land in new man in their own sick the wings\n"
     ]
    }
   ],
   "source": [
    "importlib.reload(corpus)\n",
    "importlib.reload(generate_sample)\n",
    "importlib.reload(phonetic)\n",
    "\n",
    "corp_string = \"I know a song that gets on everybody's nerves, everybody's \\\n",
    "nerves, everybody's nerves. Oh, I know a song that gets on everybody's nerves \\\n",
    "and this is how it goes oh-oh-oh\"\n",
    "\n",
    "corp = corpus.WordCorpus(dictionary)\n",
    "corp.initialize(corp_string, is_filename=False)\n",
    "\n",
    "print(\"\\nOriginal rhythm: Row, row, row your boat, gently down the stream, merrily, \\\n",
    "merrily, merrily, merrily, life is but a dream\")\n",
    "template = np.array([1,1,1,0,1,1,0,1,0,1,1,0,0,1,0,0,1,0,0,1,0,0,1,0,1,0,1])\n",
    "print(\"\\nResults:\")\n",
    "for i in range(5):\n",
    "    print(\"  \", generate_sample.generate_verse(corp, template))\n",
    "    \n",
    "print(\"\\nOriginal rhythm: Alexander Hamilton, my name is Alexander Hamilton\")\n",
    "template = np.array([1,0,1,0,1,0,1,0,1,0,1,0,1,0,1,0,1])\n",
    "print(\"\\nResults:\")\n",
    "for i in range(5):\n",
    "    print(\"  \", generate_sample.generate_verse(corp, template))\n",
    "\n",
    "corp = corpus.WordCorpus(dictionary)\n",
    "corp.initialize(\"alexander_hamilton.txt\")\n",
    "corp.generate_babble(100)"
   ]
  },
  {
   "cell_type": "code",
   "execution_count": 297,
   "metadata": {
    "collapsed": false
   },
   "outputs": [
    {
     "name": "stdout",
     "output_type": "stream",
     "text": [
      "Input text: 547 words, 256 unique\n",
      "\n",
      "Original rhythm: Alexander Hamilton, my name is Alexander Hamilton\n",
      "\n",
      "Results:\n",
      "   placed him and a father got around they placed him in the middle of\n",
      "   while slaves were da da a hero and a hero and a scotsman dropped\n",
      "   da da da da da up a lot farther by da da da da da da\n",
      "   a lot farther by da da da da da da in squalor grow up a\n",
      "   to be a collection just to the waves he wrote his brain and a whore\n",
      "\n",
      "Original rhythm: Row, row, row your boat, gently down the stream, merrily,merrily, merrily, merrily, life is but a dream\n",
      "\n",
      "Results:\n",
      "   da da by da da da da da da in squalor grow up a forgotten spot in the ten dollar founding da da\n",
      "   will they placed him and alex and the ten dollar da da da da got a lot farther by working a whore and\n",
      "   is da da man in squalor grow up a hero and every treatise on planning for something to the ten\n",
      "   the waves he was ten dollar founding da da got around they placed him in the middle of a self starter by\n",
      "   guard up a self da da by working a father without a lot farther by working a bastard orphan son\n",
      "\n",
      "Original rhythm: The itsy bitsy spider crawled up the water spout\n",
      "\n",
      "Results:\n",
      "   he struggled and a bastard da da son of a part\n",
      "   of a forgotten spot in the brother was ten his\n",
      "   da da retreating and a collection just to the\n",
      "   now see him and a hero and alex and a lot\n",
      "   da da da da without a lot farther by da da da\n"
     ]
    }
   ],
   "source": [
    "importlib.reload(corpus)\n",
    "importlib.reload(generate_sample)\n",
    "importlib.reload(phonetic)\n",
    "\n",
    "corp = corpus.WordCorpus(dictionary)\n",
    "corp.initialize(\"alexander_hamilton.txt\")\n",
    "\n",
    "print(\"\\nOriginal rhythm: Alexander Hamilton, my name is Alexander Hamilton\")\n",
    "template = np.array([1,0,1,0,1,0,1,0,1,0,1,0,1,0,1,0,1])\n",
    "print(\"\\nResults:\")\n",
    "for i in range(5):\n",
    "    print(\"  \", generate_sample.generate_verse(corp, template))\n",
    "\n",
    "print(\"\\nOriginal rhythm: Row, row, row your boat, gently down the stream, merrily,\\\n",
    "merrily, merrily, merrily, life is but a dream\")\n",
    "template = np.array([1,1,1,0,1,1,0,1,0,1,1,0,0,1,0,0,1,0,0,1,0,0,1,0,1,0,1])\n",
    "print(\"\\nResults:\")\n",
    "for i in range(5):\n",
    "    print(\"  \", generate_sample.generate_verse(corp, template))\n",
    "    \n",
    "print(\"\\nOriginal rhythm: The itsy bitsy spider crawled up the water spout\")\n",
    "template = np.array([0,1,0,1,0,1,0,0,1,0,1,0,1])\n",
    "print(\"\\nResults:\")\n",
    "for i in range(5):\n",
    "    print(\"  \", generate_sample.generate_verse(corp, template))"
   ]
  },
  {
   "cell_type": "code",
   "execution_count": null,
   "metadata": {
    "collapsed": true
   },
   "outputs": [],
   "source": []
  }
 ],
 "metadata": {
  "kernelspec": {
   "display_name": "Python 3",
   "language": "python",
   "name": "python3"
  },
  "language_info": {
   "codemirror_mode": {
    "name": "ipython",
    "version": 3
   },
   "file_extension": ".py",
   "mimetype": "text/x-python",
   "name": "python",
   "nbconvert_exporter": "python",
   "pygments_lexer": "ipython3",
   "version": "3.6.2"
  }
 },
 "nbformat": 4,
 "nbformat_minor": 0
}
