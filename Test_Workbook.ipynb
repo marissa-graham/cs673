{
 "cells": [
  {
   "cell_type": "markdown",
   "metadata": {},
   "source": [
    "https://www.python.org/downloads/release/python-364/"
   ]
  },
  {
   "cell_type": "code",
   "execution_count": 1,
   "metadata": {},
   "outputs": [],
   "source": [
    "import phonetic\n",
    "import corpus\n",
    "import generate_sample\n",
    "import verse\n",
    "import re\n",
    "import nltk\n",
    "import importlib\n",
    "import string\n",
    "import seaborn\n",
    "import numpy as np\n",
    "from scipy import sparse\n",
    "from matplotlib import pyplot as plt\n",
    "%matplotlib inline"
   ]
  },
  {
   "cell_type": "code",
   "execution_count": 2,
   "metadata": {},
   "outputs": [
    {
     "name": "stdout",
     "output_type": "stream",
     "text": [
      "[nltk_data] Downloading package cmudict to\n",
      "[nltk_data]     C:\\Users\\Marissa\\AppData\\Roaming\\nltk_data...\n",
      "[nltk_data]   Package cmudict is already up-to-date!\n",
      "[nltk_data] Downloading package gutenberg to\n",
      "[nltk_data]     C:\\Users\\Marissa\\AppData\\Roaming\\nltk_data...\n",
      "[nltk_data]   Package gutenberg is already up-to-date!\n"
     ]
    }
   ],
   "source": [
    "nltk.download('cmudict')\n",
    "nltk.download('gutenberg')\n",
    "dictionary = phonetic.PhoneticDictionary()\n",
    "dictionary.import_file(\"data/cmudict/cmudict-0.7b\")"
   ]
  },
  {
   "cell_type": "code",
   "execution_count": 3,
   "metadata": {},
   "outputs": [
    {
     "name": "stdout",
     "output_type": "stream",
     "text": [
      "Corpus text: 547 words, 256 unique\n",
      "\n",
      "Template length:  53 syllables, 37 words\n",
      "\n",
      "Template:\n",
      "How does a bastard, orphan, son of a whore and a scotsman, dropped in the middle of a forgotten spot in the caribbean by providence, impoverished, in squalor, grow up to be a hero and a scholar?\n",
      "\n",
      "Stress pattern:\n",
      " #  #  /  #  /,  #  /,  #  #  /  #  /  /  #  /,  #  /  /  #  /  #  /  /  #  /  #  /  /  /  #  /  /  #  #  /  /,  /  #  /,  /  #  /,  #  #  #  #  /  #  /  /  /  #  /, \n",
      "\n",
      "Desired number of match pairs: 5.0\n",
      "\n",
      "Number of nonzero indices: 236\n",
      "\n",
      "Percentile for cutoff: 98.0\n",
      "Cutoff score:  0.9533233539410668\n",
      "\n",
      "Pairs to match (7):\n",
      "  95.9 % match: syllable 2 of orphan + syllable 3 of forgotten \n",
      "\t 6 , 24\n",
      "  96.7 % match: syllable 2 of scotsman + syllable 3 of forgotten \n",
      "\t 14 , 24\n",
      "  95.8 % match: syllable 2 of forgotten + syllable 1 of spot \n",
      "\t 23 , 25\n",
      "  95.3 % match: syllable 1 of caribbean + syllable 2 of squalor \n",
      "\t 28 , 41\n",
      "  95.3 % match: syllable 1 of caribbean + syllable 2 of scholar \n",
      "\t 28 , 52\n",
      "  96.3 % match: syllable 1 of squalor + syllable 1 of scholar \n",
      "\t 40 , 51\n",
      "  100.0 % match: syllable 2 of squalor + syllable 2 of scholar \n",
      "\t 41 , 52\n"
     ]
    },
    {
     "data": {
      "image/png": "[encoded data removed]",
      "text/plain": [
       "<matplotlib.figure.Figure at 0x1f7524cd780>"
      ]
     },
     "metadata": {},
     "output_type": "display_data"
    }
   ],
   "source": [
    "importlib.reload(corpus)\n",
    "importlib.reload(phonetic)\n",
    "importlib.reload(generate_sample)\n",
    "importlib.reload(verse)\n",
    "\n",
    "corp = corpus.WordCorpus(dictionary)\n",
    "corp.initialize(\"alexander_hamilton.txt\")\n",
    "\n",
    "template = verse.VerseTemplate(verse.get_sample(1), dictionary, \n",
    "                               breakrules='phrase')\n",
    "template.get_rhyme(verbose=True)\n",
    "plt.spy(template.rhyme_matrix)\n",
    "plt.show()"
   ]
  },
  {
   "cell_type": "code",
   "execution_count": 13,
   "metadata": {
    "scrolled": false
   },
   "outputs": [
    {
     "name": "stdout",
     "output_type": "stream",
     "text": [
      "Corpus text: 547 words, 256 unique\n",
      "\n",
      "Template text: buddy you're a boy make a big noise, playing in the street, gonna be a big man some day, you got mud on your face, you big disgrace, kicking your can all over the place\n",
      "\n",
      "Number of syllables in template:  41\n",
      "\n",
      "Initial template bones:  #  /  #  / sick  #  /  # quick,  #  /  /  /  #,  #  /  #  /  # hurricane,  #  #  #  #  # brain,  #  #  / pain,  #  /  #  #  #  #  /  / drain \n",
      "\n",
      "Results:\n",
      "\n",
      " 0: is, 1: in, 2: their, 3: own, 4: sick, 5: the, 6: cousin, 8: quick, 9: moved, 10: in, 11: the, 12: bottom, 14: his, 15: were, 16: being, 18: a, 19: hurricane, 22: came, 23: and, 24: kept, 25: a, 26: his, 27: brain, 28: and, 29: alex, 31: pain, 32: well, 33: the, 34: word, 35: got, 36: a, 37: scholar, 39: the, 40: drain,  \n",
      "\n",
      "is in their own sick the cousin quick, moved in the bottom, his were being a hurricane, came and kept a his brain, and alex pain, well the word got a scholar the drain \n",
      "\n",
      " 0: is, 1: in, 2: their, 3: own, 4: sick, 5: the, 6: cousin, 8: quick, 9: moved, 10: in, 11: the, 12: brother, 14: father, 16: without, 18: a, 19: hurricane, 22: came, 23: and, 24: rum, 25: a, 26: his, 27: brain, 28: and, 29: carted, 31: pain, 32: well, 33: the, 34: scent, 35: thick, 36: and, 37: cousin, 39: the, 40: drain,  \n",
      "\n",
      "is in their own sick the cousin quick, moved in the brother, father without a hurricane, came and rum a his brain, and carted pain, well the scent thick and cousin the drain \n",
      "\n",
      " 0: is, 1: in, 2: their, 3: own, 4: sick, 5: the, 6: brother, 8: quick, 9: moved, 10: in, 11: squalor, 13: grow, 14: up, 15: were, 16: being, 18: a, 19: hurricane, 22: came, 23: and, 24: kept, 25: a, 26: his, 27: brain, 28: and, 29: reading, 31: pain, 32: well, 33: the, 34: scent, 35: thick, 36: and, 37: is, 38: in, 39: the, 40: drain,  \n",
      "\n",
      "is in their own sick the brother quick, moved in squalor grow, up were being a hurricane, came and kept a his brain, and reading pain, well the scent thick and is in the drain \n"
     ]
    }
   ],
   "source": [
    "importlib.reload(corpus)\n",
    "importlib.reload(phonetic)\n",
    "importlib.reload(generate_sample)\n",
    "importlib.reload(verse)\n",
    "\n",
    "corp = corpus.WordCorpus(dictionary)\n",
    "corp.initialize(\"alexander_hamilton.txt\")\n",
    "corp.initializeMatrix()\n",
    "\n",
    "to_add = [\"sick\", \"quick\", \"hurricane\", \"brain\", \"pain\", \"drain\"]\n",
    "locs = [4, 8, 19, 27, 31, 40]\n",
    "\n",
    "def make_template():\n",
    "\n",
    "    template = verse.VerseTemplate(verse.get_sample(4), dictionary, \n",
    "                                   breakrules=\"phrase\")\n",
    "    template.get_rhyme()\n",
    "    for i in range(len(to_add)):\n",
    "        template.add_word(corp.wordList[corp.wordDict[to_add[i]]], locs[i])\n",
    "    return template\n",
    "        \n",
    "template = make_template()\n",
    "print(\"\\nTemplate text:\", verse.get_sample(4))\n",
    "print(\"\\nNumber of syllables in template: \", template.num_syllables)\n",
    "print(\"\\nInitial template bones:\", template.join_template())\n",
    "print(\"\\nResults:\")\n",
    "\n",
    "for i in range(3):\n",
    "    print(generate_sample.fill_template(corp, make_template(), verbose=False, \n",
    "                                    get_rhymes=False))"
   ]
  },
  {
   "cell_type": "code",
   "execution_count": 188,
   "metadata": {
    "scrolled": false
   },
   "outputs": [
    {
     "name": "stdout",
     "output_type": "stream",
     "text": [
      "Corpus text: 547 words, 256 unique\n",
      "\n",
      "Template length:  42 syllables, 37 words\n",
      "\n",
      "Template:\n",
      "My mistress eyes' are nothing like the sun.\n",
      "Coral is far more red than her lips red.\n",
      "If snow be white, why then her breasts are dun.\n",
      "If hair be wires, black wires grow on her head.\n",
      "\n",
      "Stress pattern:\n",
      " #  #  /  #  #  #  /  #  /  #,  #  /  #  #  #  #  #  /  #  #,  #  #  #  #,  #  #  /  #  #  #,  #  #  #  #  /,  #  #  /  #  #  /  #, \n",
      "\n",
      "Desired number of match pairs: 4.0\n",
      "\n",
      "Number of nonzero indices: 412\n",
      "\n",
      "Percentile for cutoff: 99.0\n",
      "Cutoff score:  0.9504366923132399\n",
      "\n",
      "Pairs to match (5):\n",
      "  95.3 % match: syllable 1 of sun + syllable 1 of dun \n",
      "\t 9 , 29\n",
      "  95.0 % match: syllable 1 of coral + syllable 1 of more \n",
      "\t 10 , 14\n",
      "  95.8 % match: syllable 1 of snow + syllable 1 of grow \n",
      "\t 21 , 38\n",
      "  100.0 % match: syllable 1 of why + syllable 1 of wires \n",
      "\t 24 , 33\n",
      "  100.0 % match: syllable 1 of why + syllable 1 of wires \n",
      "\t 24 , 36\n",
      "\n",
      "Fill 5 rhyme pairs:\n",
      "\n",
      "\n",
      "   Get a match for at syllables 9 and 29\n",
      "\tBoth currently empty, pick both words at random\n",
      "\tGet rhymes using the vowel phoneme ER\n",
      "    => Add (\"world\" W ER1 L D ) and (\"dollar\" D AA1 L ER0 )\n",
      "\n",
      "   Get a match for at syllables 10 and 14\n",
      "\tBoth currently empty, pick both words at random\n",
      "\tGet rhymes using the vowel phoneme AE\n",
      "    => Add (\"have\" HH AE1 V ) and (\"stands\" S T AE1 N D Z )\n",
      "\n",
      "   Get a match for at syllables 21 and 38\n",
      "\tBoth currently empty, pick both words at random\n",
      "\tGet rhymes using the vowel phoneme OW\n",
      "    => Add (\"own\" OW1 N ) and (\"know\" N OW1 )\n",
      "\n",
      "   Get a match for at syllables 24 and 33\n",
      "\tBoth currently empty, pick both words at random\n",
      "\tGet rhymes using the vowel phoneme AE\n",
      "    => Add (\"have\" HH AE1 V ) and (\"alex\" AE1 L AH0 K S )\n",
      "\n",
      "   Get a match for at syllables 24 and 36\n",
      "\tFirst word why\n",
      "\tGet rhymes using the vowel phoneme AY\n",
      "    => Add (\"while\" W AY1 L )\n",
      "\n",
      "  #  #  /  #  #  #  /  #  / world, have  /  #  # stands  #  #  /  #  #,  # own  #  #, have  #  /  # dollar,  #  #  # alex,  # while  / know  #  /  #, \n"
     ]
    },
    {
     "data": {
      "text/plain": [
       "'cane and carted away across the world, is insane man took up from the ten done, but split full of, it to the same oh the, guard up to the world, is gonna know your name  #, '"
      ]
     },
     "execution_count": 188,
     "metadata": {},
     "output_type": "execute_result"
    }
   ],
   "source": [
    "importlib.reload(corpus)\n",
    "importlib.reload(phonetic)\n",
    "importlib.reload(generate_sample)\n",
    "importlib.reload(verse)\n",
    "\n",
    "corp = corpus.WordCorpus(dictionary)\n",
    "corp.initialize(\"alexander_hamilton.txt\")\n",
    "corp.initializeMatrix()\n",
    "corp.initializeSylDict()\n",
    "\n",
    "\n",
    "template = verse.VerseTemplate(verse.get_sample(6), dictionary,\n",
    "                              breakrules='phrase')\n",
    "template.get_rhyme(verbose=True)\n",
    "\n",
    "generate_sample.fill_template(corp, template)"
   ]
  },
  {
   "cell_type": "code",
   "execution_count": null,
   "metadata": {
    "collapsed": true
   },
   "outputs": [],
   "source": []
  }
 ],
 "metadata": {
  "kernelspec": {
   "display_name": "Python 3",
   "language": "python",
   "name": "python3"
  },
  "language_info": {
   "codemirror_mode": {
    "name": "ipython",
    "version": 3
   },
   "file_extension": ".py",
   "mimetype": "text/x-python",
   "name": "python",
   "nbconvert_exporter": "python",
   "pygments_lexer": "ipython3",
   "version": "3.6.3"
  }
 },
 "nbformat": 4,
 "nbformat_minor": 1
}
