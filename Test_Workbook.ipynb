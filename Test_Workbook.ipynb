{
 "cells": [
  {
   "cell_type": "markdown",
   "metadata": {},
   "source": [
    "https://www.python.org/downloads/release/python-364/"
   ]
  },
  {
   "cell_type": "code",
   "execution_count": 91,
   "metadata": {
    "collapsed": true
   },
   "outputs": [],
   "source": [
    "import phonetic\n",
    "import corpus\n",
    "import generate_sample\n",
    "import verse\n",
    "import re\n",
    "import nltk\n",
    "import importlib\n",
    "import string\n",
    "import seaborn\n",
    "import numpy as np\n",
    "from scipy import sparse\n",
    "from matplotlib import pyplot as plt\n",
    "%matplotlib inline"
   ]
  },
  {
   "cell_type": "code",
   "execution_count": 3,
   "metadata": {
    "collapsed": false
   },
   "outputs": [
    {
     "name": "stdout",
     "output_type": "stream",
     "text": [
      "[nltk_data] Downloading package gutenberg to\n",
      "[nltk_data]     C:\\Users\\Marissa\\AppData\\Roaming\\nltk_data...\n",
      "[nltk_data]   Package gutenberg is already up-to-date!\n"
     ]
    }
   ],
   "source": [
    "dictionary = phonetic.PhoneticDictionary()\n",
    "nltk.download('gutenberg')\n",
    "dictionary.import_file(\"data/cmudict/cmudict-0.7b\")"
   ]
  },
  {
   "cell_type": "code",
   "execution_count": 4,
   "metadata": {
    "collapsed": true
   },
   "outputs": [],
   "source": [
    "importlib.reload(corpus)\n",
    "\n",
    "def get_rhythm_string(template, dictionary):\n",
    "    \n",
    "    wordstrings = template.split()\n",
    "    wordlengths = np.zeros(len(wordstrings),dtype=np.int)\n",
    "    nonos = string.punctuation + '0123456789'\n",
    "    meter = []\n",
    "\n",
    "    for i in range(len(wordstrings)):\n",
    "        wordstring = wordstrings[i].strip(nonos).lower()\n",
    "        word = dictionary.lookup(wordstring)\n",
    "        wordlengths[i] = len(word.rhythm)\n",
    "        meter.extend(word.rhythm)\n",
    "    \n",
    "    return wordlengths, np.array(meter)"
   ]
  },
  {
   "cell_type": "code",
   "execution_count": 133,
   "metadata": {
    "collapsed": false
   },
   "outputs": [
    {
     "name": "stdout",
     "output_type": "stream",
     "text": [
      "Input text: 28 words, 16 unique\n",
      "Template rhythm:  How does a bastard, orphan, son of a whore and a scotsman, dropped \tin the middle of a forgotten spot in the caribbean in providence impoverished \tin squalor, grow up to be a hero and a scholar?\n",
      "probabilities do not sum to 1-try anything\n",
      "\n",
      "Sample:  is how it DAda DAda know a song that gets on DAda nerves oh i DAda a song daDAda gets on da daDADAda oh DAdada DADAda a DAda that gets on DA nerves DAda nerves oh DAda\n"
     ]
    }
   ],
   "source": [
    "importlib.reload(corpus)\n",
    "importlib.reload(phonetic)\n",
    "importlib.reload(generate_sample)\n",
    "importlib.reload(verse)\n",
    "\n",
    "corp = corpus.WordCorpus(dictionary)\n",
    "corp.initialize(\"I know a song that gets on everybody's nerves, everybody's \\\n",
    "nerves, everybody's nerves, oh, I know a song that gets on everybody's nerves\\\n",
    "and this is how it goes\", is_filename=False)\n",
    "\n",
    "template = verse.get_sample(1)\n",
    "print(\"Template rhythm: \", template)\n",
    "\n",
    "wordlengths, rhythm = get_rhythm_string(template, dictionary)\n",
    "print(\"\\nSample: \", generate_sample.generate_verse(corp, wordlengths, rhythm))"
   ]
  },
  {
   "cell_type": "code",
   "execution_count": 153,
   "metadata": {
    "collapsed": false
   },
   "outputs": [
    {
     "name": "stdout",
     "output_type": "stream",
     "text": [
      "Input text: 547 words, 256 unique\n",
      "Template rhythm:  buddy you're a boy make a big noise, playing in the street, gonna be \ta big man some day, you got mud on your face, you big disgrace, kicking your can \tall over the place, singing, we will, we will, rock you, we will, we will, rock you\n",
      "\n",
      "Sample:  coming up a whore and a lot DA DAda da da in squalor grow up a whore and a lot DA by DA DA in the waves daDA struggled and a whore DAda a whore DAda a whore and the ten his guard up a whore and a\n"
     ]
    }
   ],
   "source": [
    "corp = corpus.WordCorpus(dictionary)\n",
    "corp.initialize(\"alexander_hamilton.txt\")\n",
    "\n",
    "template = verse.get_sample(4)\n",
    "print(\"Template rhythm: \", template)\n",
    "\n",
    "wordlengths, rhythm = get_rhythm_string(template, dictionary)\n",
    "print(\"\\nSample: \", generate_sample.generate_verse(corp, wordlengths, rhythm))"
   ]
  },
  {
   "cell_type": "code",
   "execution_count": 152,
   "metadata": {
    "collapsed": false
   },
   "outputs": [
    {
     "name": "stdout",
     "output_type": "stream",
     "text": [
      "Input text: 190529 words, 7096 unique\n"
     ]
    }
   ],
   "source": [
    "corp = corpus.WordCorpus(dictionary)\n",
    "emma = nltk.corpus.gutenberg.words('austen-emma.txt')\n",
    "emma = \" \".join(emma)\n",
    "corp.initialize(emma, is_filename=False)"
   ]
  },
  {
   "cell_type": "code",
   "execution_count": 121,
   "metadata": {
    "collapsed": false
   },
   "outputs": [
    {
     "name": "stdout",
     "output_type": "stream",
     "text": [
      "Template rhythm:  How does a bastard, orphan, son of a whore and a scotsman, dropped \tin the middle of a forgotten spot in the caribbean in providence impoverished \tin squalor, grow up to be a hero and a scholar?\n",
      "\n",
      "Sample:  i have a very handsome i was a most she had rather i have i never to the idea jane jane the daDADAda and DAdada DADAda her very much i was i had longer i had only\n"
     ]
    }
   ],
   "source": [
    "template = verse.get_sample(1)\n",
    "print(\"Template rhythm: \", template)\n",
    "\n",
    "wordlengths, rhythm = get_rhythm_string(template, dictionary)\n",
    "print(\"\\nSample: \", generate_sample.generate_verse(corp, wordlengths, rhythm))"
   ]
  },
  {
   "cell_type": "code",
   "execution_count": 146,
   "metadata": {
    "collapsed": false
   },
   "outputs": [
    {
     "name": "stdout",
     "output_type": "stream",
     "text": [
      "\n",
      " I know a song that gets on everybody's nerves, everybody's \tnerves, everybody's nerves. Oh, I know a song that gets on everybody's nerves, \tand this is how it goes, oh oh oh\n",
      "[1, 1, 0, 1, 1, 1, 1, 1, 0, 2, 0, 1, 1, 0, 2, 0, 1, 1, 0, 2, 0, 1, 1, 1, 1, 0, 1, 1, 1, 1, 1, 0, 2, 0, 1, 0, 1, 1, 1, 1, 1, 1, 1, 1]\n",
      "[1, 2, 3, 4, 5, 6, 7, 11, 12, 16, 17, 21, 22, 23, 24, 25, 26, 27, 28, 29, 30, 34, 35, 36, 37, 38, 39, 40, 41, 42, 43, 44]\n",
      "\n",
      " I know a song that gets on everybody's nerves, everybody's \tnerves, everybody's nerves. Oh, I know a song that gets on everybody's nerves, \tand this is how it goes, oh oh oh\n",
      "[1, 1, 0, 1, 1, 1, 1, 1, 0, 2, 0, 1, 1, 0, 2, 0, 1, 1, 0, 2, 0, 1, 1, 1, 1, 0, 1, 1, 1, 1, 1, 0, 2, 0, 1, 0, 1, 1, 1, 1, 1, 1, 1, 1]\n",
      "[12, 17, 22, 23, 35, 41]\n",
      "\n",
      " How does a bastard, orphan, son of a whore and a scotsman, dropped \tin the middle of a forgotten spot in the caribbean in providence impoverished \tin squalor, grow up to be a hero and a scholar?\n",
      "[1, 1, 0, 1, 0, 1, 0, 1, 1, 0, 1, 0, 0, 1, 0, 1, 0, 0, 1, 0, 1, 0, 0, 1, 0, 1, 0, 0, 0, 1, 2, 0, 0, 1, 0, 0, 2, 1, 0, 0, 1, 0, 1, 1, 1, 1, 0, 1, 0, 0, 0, 1, 0]\n",
      "[1, 2, 3, 5, 7, 8, 9, 10, 11, 12, 13, 15, 16, 17, 18, 20, 21, 22, 25, 26, 27, 28, 32, 33, 36, 39, 40, 42, 43, 44, 45, 46, 47, 49, 50, 51, 53]\n",
      "\n",
      " How does a bastard, orphan, son of a whore and a scotsman, dropped \tin the middle of a forgotten spot in the caribbean in providence impoverished \tin squalor, grow up to be a hero and a scholar?\n",
      "[1, 1, 0, 1, 0, 1, 0, 1, 1, 0, 1, 0, 0, 1, 0, 1, 0, 0, 1, 0, 1, 0, 0, 1, 0, 1, 0, 0, 0, 1, 2, 0, 0, 1, 0, 0, 2, 1, 0, 0, 1, 0, 1, 1, 1, 1, 0, 1, 0, 0, 0, 1, 0]\n",
      "[5, 7, 15, 42, 53]\n",
      "\n",
      " Alexander Hamilton, my name is Alexander Hamilton\n",
      "[2, 0, 1, 0, 1, 0, 0, 1, 1, 1, 2, 0, 1, 0, 1, 0, 0]\n",
      "[4, 7, 8, 9, 10, 14, 17]\n",
      "\n",
      " Alexander Hamilton, my name is Alexander Hamilton\n",
      "[2, 0, 1, 0, 1, 0, 0, 1, 1, 1, 2, 0, 1, 0, 1, 0, 0]\n",
      "[7]\n",
      "\n",
      " row, row, row your boat, gently down the stream, merrily, merrily, \tmerrily, merrily, life is but a dream\n",
      "[1, 1, 1, 1, 1, 1, 0, 1, 0, 1, 1, 0, 0, 1, 0, 0, 1, 0, 0, 1, 0, 0, 1, 1, 1, 0, 1]\n",
      "[1, 2, 3, 4, 5, 7, 8, 9, 10, 13, 16, 19, 22, 23, 24, 25, 26, 27]\n",
      "\n",
      " row, row, row your boat, gently down the stream, merrily, merrily, \tmerrily, merrily, life is but a dream\n",
      "[1, 1, 1, 1, 1, 1, 0, 1, 0, 1, 1, 0, 0, 1, 0, 0, 1, 0, 0, 1, 0, 0, 1, 1, 1, 0, 1]\n",
      "[1, 2, 5, 10, 13, 16, 19, 22]\n",
      "\n",
      " buddy you're a boy make a big noise, playing in the street, gonna be \ta big man some day, you got mud on your face, you big disgrace, kicking your can \tall over the place, singing, we will, we will, rock you, we will, we will, rock you\n",
      "[1, 0, 1, 0, 1, 1, 0, 1, 1, 1, 0, 0, 0, 1, 1, 0, 1, 0, 1, 1, 1, 1, 1, 1, 1, 1, 1, 1, 1, 1, 0, 1, 1, 0, 1, 1, 1, 1, 0, 0, 1, 1, 0, 1, 1, 1, 1, 1, 1, 1, 1, 1, 1, 1, 1]\n",
      "[2, 3, 4, 5, 6, 7, 8, 9, 11, 12, 13, 14, 16, 17, 18, 19, 20, 21, 22, 23, 24, 25, 26, 27, 28, 29, 30, 32, 34, 35, 36, 37, 39, 40, 41, 43, 44, 45, 46, 47, 48, 49, 50, 51, 52, 53, 54, 55]\n",
      "\n",
      " buddy you're a boy make a big noise, playing in the street, gonna be \ta big man some day, you got mud on your face, you big disgrace, kicking your can \tall over the place, singing, we will, we will, rock you, we will, we will, rock you\n",
      "[1, 0, 1, 0, 1, 1, 0, 1, 1, 1, 0, 0, 0, 1, 1, 0, 1, 0, 1, 1, 1, 1, 1, 1, 1, 1, 1, 1, 1, 1, 0, 1, 1, 0, 1, 1, 1, 1, 0, 0, 1, 1, 0, 1, 1, 1, 1, 1, 1, 1, 1, 1, 1, 1, 1]\n",
      "[9, 14, 22, 28, 32, 41, 43, 45, 47, 49, 51, 53]\n"
     ]
    }
   ],
   "source": [
    "importlib.reload(corpus)\n",
    "importlib.reload(phonetic)\n",
    "importlib.reload(generate_sample)\n",
    "importlib.reload(verse)\n",
    "\n",
    "for i in range(5):\n",
    "    template = verse.VerseTemplate(verse.get_sample(i), dictionary, \\\n",
    "                                   breakrules='phrase')\n",
    "    template.get_rhythm()"
   ]
  },
  {
   "cell_type": "code",
   "execution_count": 3,
   "metadata": {
    "collapsed": false
   },
   "outputs": [
    {
     "name": "stdout",
     "output_type": "stream",
     "text": [
      "[0. 0. 0. 1. 1. 1. 0. 0. 0. 0.]\n"
     ]
    }
   ],
   "source": [
    "import numpy as np\n",
    "myarr = np.zeros(10)\n",
    "myarr[3:6] = 1.0\n",
    "print(myarr)"
   ]
  },
  {
   "cell_type": "code",
   "execution_count": 9,
   "metadata": {
    "collapsed": false
   },
   "outputs": [
    {
     "name": "stdout",
     "output_type": "stream",
     "text": [
      "[[7 1 1 1]\n",
      " [4 0 4 7]\n",
      " [0 5 9 4]\n",
      " [1 9 7 2]] \n",
      "\n",
      "[[7 0 0 0]\n",
      " [0 0 0 7]\n",
      " [0 0 9 0]\n",
      " [0 9 7 0]]\n",
      "[3]\n"
     ]
    }
   ],
   "source": [
    "import numpy as np\n",
    "\n",
    "A = np.random.randint(10,size=(4,4))\n",
    "print(A, '\\n')\n",
    "A[A<6] = 0\n",
    "print(A)\n",
    "\n",
    "print(np.nonzero(A[1,:])[0])"
   ]
  },
  {
   "cell_type": "code",
   "execution_count": null,
   "metadata": {
    "collapsed": true
   },
   "outputs": [],
   "source": []
  }
 ],
 "metadata": {
  "kernelspec": {
   "display_name": "Python 3",
   "language": "python",
   "name": "python3"
  },
  "language_info": {
   "codemirror_mode": {
    "name": "ipython",
    "version": 3
   },
   "file_extension": ".py",
   "mimetype": "text/x-python",
   "name": "python",
   "nbconvert_exporter": "python",
   "pygments_lexer": "ipython3",
   "version": "3.6.2"
  }
 },
 "nbformat": 4,
 "nbformat_minor": 1
}
