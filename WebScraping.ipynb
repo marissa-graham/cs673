{
 "cells": [
  {
   "cell_type": "markdown",
   "metadata": {},
   "source": [
    "# Scraping the web for corpus data\n",
    "This notebook contains the code used to gather song lyrics for our corpus. \n",
    "\n",
    "Hamilton lyrics are sourced from http://www.themusicallyrics.com\n",
    "All other lyrics are sourced from https://www.azlyrics.com"
   ]
  },
  {
   "cell_type": "code",
   "execution_count": 63,
   "metadata": {
    "scrolled": false
   },
   "outputs": [],
   "source": [
    "from urllib.request import urlopen\n",
    "from bs4 import BeautifulSoup, Comment, NavigableString\n",
    "import re\n",
    "import time\n",
    "import random\n",
    "import os\n",
    "\n",
    "\n",
    "# nonos = re.compile(\"[\\s,.!?'\\\"#--()/]\")\n",
    "nonos = re.compile(\"[^A-Za-z0-9]\")"
   ]
  },
  {
   "cell_type": "markdown",
   "metadata": {},
   "source": [
    "### Gathering Links for Hamilton Songs"
   ]
  },
  {
   "cell_type": "code",
   "execution_count": null,
   "metadata": {},
   "outputs": [],
   "source": [
    "BASE_URL = \"http://www.themusicallyrics.com\"\n",
    "\n",
    "conn = urlopen(\"http://www.themusicallyrics.com/h/351-hamilton-the-musical.html\")\n",
    "html = conn.read()\n",
    "soup = BeautifulSoup(html, \"html5lib\")\n",
    "\n",
    "# get links to lyrics for all songs\n",
    "\n",
    "body = soup.find(\"tbody\")\n",
    "tbody = body.find(\"tbody\") # lyrics are in nested tbody element\n",
    "links = tbody.findAll(\"a\")\n",
    "\n",
    "# write links to a file\n",
    "with open(\"hamilton-links\", \"w\") as hl:\n",
    "    for tag in links:\n",
    "        link = tag.get(\"href\")\n",
    "        if link is not None:\n",
    "            if link.startswith(\"/h/\") and \"synopsis\" not in link:\n",
    "                lyrics_page = BASE_URL + link\n",
    "                hl.write(lyrics_page + \"\\n\")"
   ]
  },
  {
   "cell_type": "markdown",
   "metadata": {},
   "source": [
    "### Parsing each link and scraping lyrics\n",
    "\n",
    "Note: the lyric files genereated below will still need to undergo some preprocessing before they're ready to be imported into the corpus"
   ]
  },
  {
   "cell_type": "code",
   "execution_count": 80,
   "metadata": {
    "scrolled": true
   },
   "outputs": [
    {
     "ename": "NameError",
     "evalue": "name 'bs4' is not defined",
     "output_type": "error",
     "traceback": [
      "\u001b[0;31m---------------------------------------------------------------------------\u001b[0m",
      "\u001b[0;31mNameError\u001b[0m                                 Traceback (most recent call last)",
      "\u001b[0;32m<ipython-input-80-e22b2474d4fc>\u001b[0m in \u001b[0;36m<module>\u001b[0;34m()\u001b[0m\n\u001b[1;32m     13\u001b[0m         \u001b[0;32mwith\u001b[0m \u001b[0mopen\u001b[0m\u001b[0;34m(\u001b[0m\u001b[0mfilename\u001b[0m\u001b[0;34m,\u001b[0m \u001b[0;34m\"w\"\u001b[0m\u001b[0;34m)\u001b[0m \u001b[0;32mas\u001b[0m \u001b[0mhll\u001b[0m\u001b[0;34m:\u001b[0m\u001b[0;34m\u001b[0m\u001b[0m\n\u001b[1;32m     14\u001b[0m             \u001b[0;32mfor\u001b[0m \u001b[0mitem\u001b[0m \u001b[0;32min\u001b[0m \u001b[0mp\u001b[0m\u001b[0;34m:\u001b[0m\u001b[0;34m\u001b[0m\u001b[0m\n\u001b[0;32m---> 15\u001b[0;31m                 \u001b[0;32mif\u001b[0m \u001b[0mtype\u001b[0m\u001b[0;34m(\u001b[0m\u001b[0mitem\u001b[0m\u001b[0;34m)\u001b[0m \u001b[0;34m==\u001b[0m \u001b[0mbs4\u001b[0m\u001b[0;34m.\u001b[0m\u001b[0melement\u001b[0m\u001b[0;34m.\u001b[0m\u001b[0mNavigableString\u001b[0m\u001b[0;34m:\u001b[0m\u001b[0;34m\u001b[0m\u001b[0m\n\u001b[0m\u001b[1;32m     16\u001b[0m                     \u001b[0mhll\u001b[0m\u001b[0;34m.\u001b[0m\u001b[0mwrite\u001b[0m\u001b[0;34m(\u001b[0m\u001b[0mitem\u001b[0m \u001b[0;34m+\u001b[0m \u001b[0;34m\"\\n\"\u001b[0m\u001b[0;34m)\u001b[0m\u001b[0;34m\u001b[0m\u001b[0m\n",
      "\u001b[0;31mNameError\u001b[0m: name 'bs4' is not defined"
     ]
    }
   ],
   "source": [
    "# open links on by one and strip lyrics\n",
    "# I separated this step out to improve clarity\n",
    "with open(\"hamilton-links\", \"r\") as hlf:\n",
    "    for link in hlf:\n",
    "        conn = urlopen(link)\n",
    "        soup = BeautifulSoup(conn.read(), \"html5lib\")\n",
    "        title = soup.title.contents[0]\n",
    "        filename = \"lyrics/hamilton/raw/\"\n",
    "        filename += \"\".join(title.split()[2:-1])\n",
    "        filename += \".txt\"\n",
    "        filename = re.sub(nonos, \"\", filename)\n",
    "        p = soup.p\n",
    "        with open(filename, \"w\") as hll:\n",
    "            for item in p:\n",
    "                if type(item) == NavigableString:   \n",
    "                    hll.write(item + \"\\n\")"
   ]
  },
  {
   "cell_type": "markdown",
   "metadata": {},
   "source": [
    "### Gathering Links for Kendrick Lamar"
   ]
  },
  {
   "cell_type": "code",
   "execution_count": 91,
   "metadata": {},
   "outputs": [],
   "source": [
    "BASE_URL = \"https://www.azlyrics.com/\"\n",
    "CATALOG_EXT = \"k/kendricklamar.html\"\n",
    "\n",
    "html = urlopen(BASE_URL + CATALOG_EXT).read()\n",
    "\n",
    "soup = BeautifulSoup(html, \"html5lib\")\n",
    "\n",
    "catalog = soup.find(\"div\", id=\"listAlbum\")\n",
    "songs = catalog.findAll(\"a\")\n",
    "\n",
    "with open(\"song_lyric_links/kendrick_lamar-links.txt\", \"w\") as kll:\n",
    "    for song in songs:\n",
    "        link = song.get(\"href\")\n",
    "        if link is not None:\n",
    "            if link.startswith(\"..\"):\n",
    "                link = BASE_URL + link.lstrip(\"../\") + \"\\n\"\n",
    "                kll.write(link)"
   ]
  },
  {
   "cell_type": "markdown",
   "metadata": {},
   "source": [
    "### Scraping the lyrics"
   ]
  },
  {
   "cell_type": "code",
   "execution_count": 10,
   "metadata": {
    "scrolled": true
   },
   "outputs": [
    {
     "name": "stdout",
     "output_type": "stream",
     "text": [
      "lyrics/kendrick_lamar/IsItLove.txt\n",
      "lyrics/kendrick_lamar/Celebration.txt\n",
      "lyrics/kendrick_lamar/PP.txt\n",
      "lyrics/kendrick_lamar/SheNeedsMe.txt\n",
      "lyrics/kendrick_lamar/IAmInterlude.txt\n",
      "lyrics/kendrick_lamar/WannaBeHeard.txt\n",
      "lyrics/kendrick_lamar/IDoThis.txt\n",
      "lyrics/kendrick_lamar/UncleBobbyJasonKeaton.txt\n",
      "lyrics/kendrick_lamar/Faith.txt\n",
      "lyrics/kendrick_lamar/Trip.txt\n",
      "lyrics/kendrick_lamar/VanitySlaves.txt\n",
      "lyrics/kendrick_lamar/FarFromHere.txt\n",
      "lyrics/kendrick_lamar/Thanksgiving.txt\n",
      "lyrics/kendrick_lamar/LetMeBeMe.txt\n",
      "lyrics/kendrick_lamar/Determined.txt\n",
      "lyrics/kendrick_lamar/TheHeartPt2.txt\n",
      "lyrics/kendrick_lamar/GrowingApartToGetCloser.txt\n",
      "lyrics/kendrick_lamar/NightOfTheLivingJunkies.txt\n",
      "lyrics/kendrick_lamar/PP15.txt\n",
      "lyrics/kendrick_lamar/AlienGirlTodaywHer.txt\n",
      "lyrics/kendrick_lamar/OppositesAttractTomorrowwoHer.txt\n",
      "lyrics/kendrick_lamar/MichaelJordan.txt\n",
      "lyrics/kendrick_lamar/IgnoranceIsBliss.txt\n",
      "lyrics/kendrick_lamar/ROTCInterlude.txt\n",
      "lyrics/kendrick_lamar/BarbedWire.txt\n",
      "lyrics/kendrick_lamar/AverageJoe.txt\n",
      "lyrics/kendrick_lamar/HOC.txt\n",
      "lyrics/kendrick_lamar/CutYouOffToGrowCloser.txt\n",
      "lyrics/kendrick_lamar/HeavenHell.txt\n",
      "lyrics/kendrick_lamar/SheNeedsMeRemix.txt\n",
      "lyrics/kendrick_lamar/IDoThisRemix.txt\n",
      "lyrics/kendrick_lamar/FuckYourEthnicity.txt\n",
      "lyrics/kendrick_lamar/HolUp.txt\n",
      "lyrics/kendrick_lamar/ADHD.txt\n",
      "lyrics/kendrick_lamar/NoMakeUpHerVice.txt\n",
      "lyrics/kendrick_lamar/TammysSongHerEvils.txt\n",
      "lyrics/kendrick_lamar/ChapterSix.txt\n",
      "lyrics/kendrick_lamar/RonaldReaganEraHisEvils.txt\n",
      "lyrics/kendrick_lamar/PoeMansDreamsHisVice.txt\n",
      "lyrics/kendrick_lamar/TheSpitefulChant.txt\n",
      "lyrics/kendrick_lamar/ChapterTen.txt\n",
      "lyrics/kendrick_lamar/KeishasSongHerPain.txt\n",
      "lyrics/kendrick_lamar/Rigamortus.txt\n",
      "lyrics/kendrick_lamar/KushCorinthiansHisPain.txt\n",
      "lyrics/kendrick_lamar/BlowMyHighMembersOnly.txt\n",
      "lyrics/kendrick_lamar/AbSoulsOutro.txt\n",
      "lyrics/kendrick_lamar/HiiiPoWeR.txt\n",
      "lyrics/kendrick_lamar/SheraneAKAMasterSplintersDaughter.txt\n",
      "lyrics/kendrick_lamar/BitchDontKillMyVibe.txt\n",
      "lyrics/kendrick_lamar/BackseatFreestyle.txt\n",
      "lyrics/kendrick_lamar/TheArtOfPeerPressure.txt\n",
      "lyrics/kendrick_lamar/MoneyTrees.txt\n",
      "lyrics/kendrick_lamar/PoeticJustice.txt\n",
      "lyrics/kendrick_lamar/GoodKid.txt\n",
      "lyrics/kendrick_lamar/mAAdCity.txt\n",
      "lyrics/kendrick_lamar/SwimmingPoolsDrank.txt\n",
      "lyrics/kendrick_lamar/SingAboutMeImDyingOfThirst.txt\n",
      "lyrics/kendrick_lamar/Real.txt\n",
      "lyrics/kendrick_lamar/Compton.txt\n",
      "lyrics/kendrick_lamar/TheRecipe.txt\n",
      "lyrics/kendrick_lamar/BlackBoyFly.txt\n",
      "lyrics/kendrick_lamar/NowOrNever.txt\n",
      "lyrics/kendrick_lamar/CollectCalls.txt\n",
      "lyrics/kendrick_lamar/CountyBuildingBlues.txt\n",
      "lyrics/kendrick_lamar/SwimmingPoolsBlackHippyRemix.txt\n",
      "lyrics/kendrick_lamar/TheRecipeBlackHippyRemix.txt\n",
      "lyrics/kendrick_lamar/WesleysTheory.txt\n",
      "lyrics/kendrick_lamar/ForFree?Interlude.txt\n",
      "lyrics/kendrick_lamar/KingKunta.txt\n",
      "lyrics/kendrick_lamar/Institutionalized.txt\n",
      "lyrics/kendrick_lamar/TheseWalls.txt\n",
      "lyrics/kendrick_lamar/u.txt\n",
      "lyrics/kendrick_lamar/Alright.txt\n",
      "lyrics/kendrick_lamar/ForSale?Interlude.txt\n",
      "lyrics/kendrick_lamar/Momma.txt\n",
      "lyrics/kendrick_lamar/HoodPolitics.txt\n",
      "lyrics/kendrick_lamar/HowMuchADollarCost.txt\n",
      "lyrics/kendrick_lamar/ComplexionAZuluLove.txt\n",
      "lyrics/kendrick_lamar/TheBlackerTheBerry.txt\n",
      "lyrics/kendrick_lamar/YouAintGottaLieMommaSaid.txt\n",
      "lyrics/kendrick_lamar/i.txt\n",
      "lyrics/kendrick_lamar/MortalMan.txt\n",
      "lyrics/kendrick_lamar/Untitled01L08192014.txt\n",
      "lyrics/kendrick_lamar/Untitled02L06232014.txt\n",
      "lyrics/kendrick_lamar/Untitled03L05282013.txt\n",
      "lyrics/kendrick_lamar/Untitled04L08142014.txt\n",
      "lyrics/kendrick_lamar/Untitled05L09212014.txt\n",
      "lyrics/kendrick_lamar/Untitled06L06302014.txt\n",
      "lyrics/kendrick_lamar/Untitled07L20142016.txt\n",
      "lyrics/kendrick_lamar/Untitled08L09062014.txt\n",
      "lyrics/kendrick_lamar/BLOOD.txt\n",
      "lyrics/kendrick_lamar/DNA.txt\n",
      "lyrics/kendrick_lamar/YAH.txt\n",
      "lyrics/kendrick_lamar/ELEMENT.txt\n",
      "lyrics/kendrick_lamar/FEEL.txt\n",
      "lyrics/kendrick_lamar/LOYALTY.txt\n",
      "lyrics/kendrick_lamar/PRIDE.txt\n",
      "lyrics/kendrick_lamar/HUMBLE.txt\n",
      "lyrics/kendrick_lamar/LUST.txt\n",
      "lyrics/kendrick_lamar/LOVE.txt\n",
      "lyrics/kendrick_lamar/XXX.txt\n",
      "lyrics/kendrick_lamar/FEAR.txt\n",
      "lyrics/kendrick_lamar/GOD.txt\n",
      "lyrics/kendrick_lamar/DUCKWORTH.txt\n",
      "lyrics/kendrick_lamar/BlackPanther.txt\n",
      "lyrics/kendrick_lamar/LyricsAllTheStars.txt\n",
      "lyrics/kendrick_lamar/LamarLyricsParamedic!.txt\n",
      "lyrics/kendrick_lamar/Interlude.txt\n",
      "lyrics/kendrick_lamar/KendrickLamarLyricsRedemption.txt\n",
      "lyrics/kendrick_lamar/ScottLyricsBigShot.txt\n",
      "lyrics/kendrick_lamar/6Foot7FootFreestyle.txt\n",
      "lyrics/kendrick_lamar/LyricsAllTheStars.txt\n",
      "lyrics/kendrick_lamar/Backwards.txt\n",
      "lyrics/kendrick_lamar/Beyonce.txt\n",
      "lyrics/kendrick_lamar/BitchDontKillMyVibeRemix.txt\n",
      "lyrics/kendrick_lamar/BlackFriday.txt\n",
      "lyrics/kendrick_lamar/CartoonsCereal.txt\n",
      "lyrics/kendrick_lamar/Cloud10.txt\n",
      "lyrics/kendrick_lamar/DontUnderstand.txt\n",
      "lyrics/kendrick_lamar/ForTheGirlfriends.txt\n",
      "lyrics/kendrick_lamar/ForTheHomies.txt\n",
      "lyrics/kendrick_lamar/GCode.txt\n",
      "lyrics/kendrick_lamar/HUMBLESkrillexRemix.txt\n",
      "lyrics/kendrick_lamar/IHateYou.txt\n",
      "lyrics/kendrick_lamar/KendrickLamar.txt\n",
      "lyrics/kendrick_lamar/Kurupted.txt\n",
      "lyrics/kendrick_lamar/LittleJohnny.txt\n",
      "lyrics/kendrick_lamar/LMAO.txt\n",
      "lyrics/kendrick_lamar/LookOutForDetox.txt\n",
      "lyrics/kendrick_lamar/MonsterFreestyle.txt\n",
      "lyrics/kendrick_lamar/MyMindDrifts.txt\n",
      "lyrics/kendrick_lamar/Outrageous.txt\n",
      "lyrics/kendrick_lamar/RareBreed.txt\n",
      "lyrics/kendrick_lamar/SexWithSociety.txt\n",
      "lyrics/kendrick_lamar/SomebodyThatIUsedToKnowFreestyle.txt\n",
      "lyrics/kendrick_lamar/SwimmingPoolsDrankRemix.txt\n",
      "lyrics/kendrick_lamar/TheHeartPart4.txt\n",
      "lyrics/kendrick_lamar/TheHeartPt1.txt\n",
      "lyrics/kendrick_lamar/TheHeartPt3.txt\n",
      "lyrics/kendrick_lamar/TheJigIsUpDumpn.txt\n",
      "lyrics/kendrick_lamar/TheRelevant.txt\n",
      "lyrics/kendrick_lamar/Untitled.txt\n",
      "lyrics/kendrick_lamar/Untitled2BlueFaces.txt\n",
      "lyrics/kendrick_lamar/VanitySlavePt2.txt\n",
      "lyrics/kendrick_lamar/WarIsMyLove.txt\n",
      "lyrics/kendrick_lamar/WestsideRightOnTime.txt\n",
      "lyrics/kendrick_lamar/XXLFreshman2011KendrickLamarFreestyle.txt\n",
      "lyrics/kendrick_lamar/YearOfTheFiresheep.txt\n"
     ]
    }
   ],
   "source": [
    "BASE_DIR = \"lyrics/kendrick_lamar/\"\n",
    "with open(\"song_lyric_links/kendrick_lamar-links.txt\", \"r\") as kll:\n",
    "    for link in kll:\n",
    "        html = urlopen(link).read()\n",
    "        soup = BeautifulSoup(html, \"html5lib\")\n",
    "        comments = soup.findAll(text=lambda text:isinstance(text, Comment))\n",
    "        title = soup.title.contents[0].split()\n",
    "        title = \"\".join(title[4:])\n",
    "        title = re.sub(nonos, \"\", title)\n",
    "        filename = BASE_DIR + title + \".txt\"\n",
    "        print(filename)\n",
    "        for comment in comments:\n",
    "            if \"Usage of azlyrics.com\" in comment: # lyrics follow this comment\n",
    "                parent = comment.parent\n",
    "                with open(filename, \"w\") as f:\n",
    "                    for item in parent:\n",
    "                        if type(item) == NavigableString:\n",
    "                            if len(item) > 1: # ignore blank lines\n",
    "                                f.write(item)\n",
    "        time.sleep(random.randint(5, 12))"
   ]
  },
  {
   "cell_type": "code",
   "execution_count": 43,
   "metadata": {
    "scrolled": true
   },
   "outputs": [],
   "source": [
    "links = get_links(\"https://www.azlyrics.com/n/nickiminaj.html\", \"out.txt\")\n",
    "with open(\"song_lyric_links/nicki_minaj-links.txt\", \"w\") as nml:\n",
    "    for link in links:\n",
    "        nml.write(link + \"\\n\")"
   ]
  },
  {
   "cell_type": "code",
   "execution_count": 122,
   "metadata": {},
   "outputs": [],
   "source": [
    "with open(\"song_lyric_links/nicki_minaj-links.txt\", \"r\") as links:\n",
    "    for url in links:\n",
    "        title, lines = scrape_lyrics(url)\n",
    "        with open(\"lyrics/nicki_minaj/\" + title + \".txt\", \"w\") as file:\n",
    "            for line in lines:\n",
    "                file.write(line + \"\\n\")\n",
    "        time.sleep(random.randint(5, 12)) # avoid making azlyrics mad"
   ]
  },
  {
   "cell_type": "code",
   "execution_count": 66,
   "metadata": {
    "scrolled": false
   },
   "outputs": [],
   "source": [
    "def get_links(url):\n",
    "    BASE_URL = url.rsplit(\"/\",2)[0] # https://www.azlyrics.com\n",
    "    PREFIX = \"..\"\n",
    "    links_list = []\n",
    "    html = urlopen(url).read()\n",
    "    soup = BeautifulSoup(html, \"html5lib\")\n",
    "    catalog = soup.find(\"div\", id=\"listAlbum\")\n",
    "    links = catalog.findAll(\"a\")\n",
    "    for link in links:\n",
    "        tag = link.get(\"href\")\n",
    "        if tag is not None and tag.startswith(PREFIX):\n",
    "            links_list.append(BASE_URL + tag.lstrip(PREFIX))\n",
    "    return links_list "
   ]
  },
  {
   "cell_type": "code",
   "execution_count": 67,
   "metadata": {},
   "outputs": [],
   "source": [
    "def scrape_lyrics(url):\n",
    "    COMMENT_KEY = \"Usage of azlyrics.com\"\n",
    "    \n",
    "    lines = []\n",
    "    html = urlopen(url).read()\n",
    "    soup = BeautifulSoup(html, \"html5lib\")\n",
    "    parent = None\n",
    "\n",
    "    # find parent of lyrics div\n",
    "    for comment in soup.findAll(text=lambda x: isinstance(x, Comment)):\n",
    "        if COMMENT_KEY in comment:\n",
    "            parent = comment.parent\n",
    "\n",
    "    for line in parent:\n",
    "        if type(line) == NavigableString and len(line) > 1:\n",
    "            lines.append(line.lstrip(\"\\n\")) \n",
    "            \n",
    "    title = soup.title.contents[0].split(\"-\")[1]\n",
    "    title = re.sub(nonos, \"\", title)\n",
    "    \n",
    "    return title, lines"
   ]
  },
  {
   "cell_type": "code",
   "execution_count": 70,
   "metadata": {},
   "outputs": [],
   "source": [
    "def get_corpus(discography_url, output_dir):\n",
    "    if not os.path.exists(output_dir):\n",
    "        os.makedirs(output_dir)\n",
    "    song_links = get_links(discography_url)\n",
    "    for link in song_links:\n",
    "        title, lines = scrape_lyrics(link)\n",
    "        filename = output_dir + title + \".txt\"\n",
    "        with open(filename, \"w\") as f:\n",
    "            for line in lines:\n",
    "                f.write(line + \"\\n\")\n",
    "        time.sleep(random.randint(5, 12))"
   ]
  },
  {
   "cell_type": "code",
   "execution_count": 72,
   "metadata": {},
   "outputs": [
    {
     "ename": "RemoteDisconnected",
     "evalue": "Remote end closed connection without response",
     "output_type": "error",
     "traceback": [
      "\u001b[0;31m---------------------------------------------------------------------------\u001b[0m",
      "\u001b[0;31mRemoteDisconnected\u001b[0m                        Traceback (most recent call last)",
      "\u001b[0;32m<ipython-input-72-4306597a1a3b>\u001b[0m in \u001b[0;36m<module>\u001b[0;34m()\u001b[0m\n\u001b[1;32m      1\u001b[0m \u001b[0;31m# get_corpus(\"https://www.azlyrics.com/d/drake.html\", \"lyrics/drake/\")\u001b[0m\u001b[0;34m\u001b[0m\u001b[0;34m\u001b[0m\u001b[0m\n\u001b[0;32m----> 2\u001b[0;31m \u001b[0mget_corpus\u001b[0m\u001b[0;34m(\u001b[0m\u001b[0;34m\"https://www.azlyrics.com/c/cardi-b.html\"\u001b[0m\u001b[0;34m,\u001b[0m \u001b[0;34m\"lyrics/cardi-b/\"\u001b[0m\u001b[0;34m)\u001b[0m\u001b[0;34m\u001b[0m\u001b[0m\n\u001b[0m\u001b[1;32m      3\u001b[0m \u001b[0mget_corpus\u001b[0m\u001b[0;34m(\u001b[0m\u001b[0;34m\"https://www.azlyrics.com/j/jayz.html\"\u001b[0m\u001b[0;34m,\u001b[0m \u001b[0;34m\"lyrics/jayz/\"\u001b[0m\u001b[0;34m)\u001b[0m\u001b[0;34m\u001b[0m\u001b[0m\n",
      "\u001b[0;32m<ipython-input-70-1c74e991fea1>\u001b[0m in \u001b[0;36mget_corpus\u001b[0;34m(discography_url, output_dir)\u001b[0m\n\u001b[1;32m      2\u001b[0m     \u001b[0;32mif\u001b[0m \u001b[0;32mnot\u001b[0m \u001b[0mos\u001b[0m\u001b[0;34m.\u001b[0m\u001b[0mpath\u001b[0m\u001b[0;34m.\u001b[0m\u001b[0mexists\u001b[0m\u001b[0;34m(\u001b[0m\u001b[0moutput_dir\u001b[0m\u001b[0;34m)\u001b[0m\u001b[0;34m:\u001b[0m\u001b[0;34m\u001b[0m\u001b[0m\n\u001b[1;32m      3\u001b[0m         \u001b[0mos\u001b[0m\u001b[0;34m.\u001b[0m\u001b[0mmakedirs\u001b[0m\u001b[0;34m(\u001b[0m\u001b[0moutput_dir\u001b[0m\u001b[0;34m)\u001b[0m\u001b[0;34m\u001b[0m\u001b[0m\n\u001b[0;32m----> 4\u001b[0;31m     \u001b[0msong_links\u001b[0m \u001b[0;34m=\u001b[0m \u001b[0mget_links\u001b[0m\u001b[0;34m(\u001b[0m\u001b[0mdiscography_url\u001b[0m\u001b[0;34m)\u001b[0m\u001b[0;34m\u001b[0m\u001b[0m\n\u001b[0m\u001b[1;32m      5\u001b[0m     \u001b[0;32mfor\u001b[0m \u001b[0mlink\u001b[0m \u001b[0;32min\u001b[0m \u001b[0msong_links\u001b[0m\u001b[0;34m:\u001b[0m\u001b[0;34m\u001b[0m\u001b[0m\n\u001b[1;32m      6\u001b[0m         \u001b[0mtitle\u001b[0m\u001b[0;34m,\u001b[0m \u001b[0mlines\u001b[0m \u001b[0;34m=\u001b[0m \u001b[0mscrape_lyrics\u001b[0m\u001b[0;34m(\u001b[0m\u001b[0mlink\u001b[0m\u001b[0;34m)\u001b[0m\u001b[0;34m\u001b[0m\u001b[0m\n",
      "\u001b[0;32m<ipython-input-66-4abc3d8baa97>\u001b[0m in \u001b[0;36mget_links\u001b[0;34m(url)\u001b[0m\n\u001b[1;32m      3\u001b[0m     \u001b[0mPREFIX\u001b[0m \u001b[0;34m=\u001b[0m \u001b[0;34m\"..\"\u001b[0m\u001b[0;34m\u001b[0m\u001b[0m\n\u001b[1;32m      4\u001b[0m     \u001b[0mlinks_list\u001b[0m \u001b[0;34m=\u001b[0m \u001b[0;34m[\u001b[0m\u001b[0;34m]\u001b[0m\u001b[0;34m\u001b[0m\u001b[0m\n\u001b[0;32m----> 5\u001b[0;31m     \u001b[0mhtml\u001b[0m \u001b[0;34m=\u001b[0m \u001b[0murlopen\u001b[0m\u001b[0;34m(\u001b[0m\u001b[0murl\u001b[0m\u001b[0;34m)\u001b[0m\u001b[0;34m.\u001b[0m\u001b[0mread\u001b[0m\u001b[0;34m(\u001b[0m\u001b[0;34m)\u001b[0m\u001b[0;34m\u001b[0m\u001b[0m\n\u001b[0m\u001b[1;32m      6\u001b[0m     \u001b[0msoup\u001b[0m \u001b[0;34m=\u001b[0m \u001b[0mBeautifulSoup\u001b[0m\u001b[0;34m(\u001b[0m\u001b[0mhtml\u001b[0m\u001b[0;34m,\u001b[0m \u001b[0;34m\"html5lib\"\u001b[0m\u001b[0;34m)\u001b[0m\u001b[0;34m\u001b[0m\u001b[0m\n\u001b[1;32m      7\u001b[0m     \u001b[0mcatalog\u001b[0m \u001b[0;34m=\u001b[0m \u001b[0msoup\u001b[0m\u001b[0;34m.\u001b[0m\u001b[0mfind\u001b[0m\u001b[0;34m(\u001b[0m\u001b[0;34m\"div\"\u001b[0m\u001b[0;34m,\u001b[0m \u001b[0mid\u001b[0m\u001b[0;34m=\u001b[0m\u001b[0;34m\"listAlbum\"\u001b[0m\u001b[0;34m)\u001b[0m\u001b[0;34m\u001b[0m\u001b[0m\n",
      "\u001b[0;32m/Library/Frameworks/Python.framework/Versions/3.6/lib/python3.6/urllib/request.py\u001b[0m in \u001b[0;36murlopen\u001b[0;34m(url, data, timeout, cafile, capath, cadefault, context)\u001b[0m\n\u001b[1;32m    221\u001b[0m     \u001b[0;32melse\u001b[0m\u001b[0;34m:\u001b[0m\u001b[0;34m\u001b[0m\u001b[0m\n\u001b[1;32m    222\u001b[0m         \u001b[0mopener\u001b[0m \u001b[0;34m=\u001b[0m \u001b[0m_opener\u001b[0m\u001b[0;34m\u001b[0m\u001b[0m\n\u001b[0;32m--> 223\u001b[0;31m     \u001b[0;32mreturn\u001b[0m \u001b[0mopener\u001b[0m\u001b[0;34m.\u001b[0m\u001b[0mopen\u001b[0m\u001b[0;34m(\u001b[0m\u001b[0murl\u001b[0m\u001b[0;34m,\u001b[0m \u001b[0mdata\u001b[0m\u001b[0;34m,\u001b[0m \u001b[0mtimeout\u001b[0m\u001b[0;34m)\u001b[0m\u001b[0;34m\u001b[0m\u001b[0m\n\u001b[0m\u001b[1;32m    224\u001b[0m \u001b[0;34m\u001b[0m\u001b[0m\n\u001b[1;32m    225\u001b[0m \u001b[0;32mdef\u001b[0m \u001b[0minstall_opener\u001b[0m\u001b[0;34m(\u001b[0m\u001b[0mopener\u001b[0m\u001b[0;34m)\u001b[0m\u001b[0;34m:\u001b[0m\u001b[0;34m\u001b[0m\u001b[0m\n",
      "\u001b[0;32m/Library/Frameworks/Python.framework/Versions/3.6/lib/python3.6/urllib/request.py\u001b[0m in \u001b[0;36mopen\u001b[0;34m(self, fullurl, data, timeout)\u001b[0m\n\u001b[1;32m    524\u001b[0m             \u001b[0mreq\u001b[0m \u001b[0;34m=\u001b[0m \u001b[0mmeth\u001b[0m\u001b[0;34m(\u001b[0m\u001b[0mreq\u001b[0m\u001b[0;34m)\u001b[0m\u001b[0;34m\u001b[0m\u001b[0m\n\u001b[1;32m    525\u001b[0m \u001b[0;34m\u001b[0m\u001b[0m\n\u001b[0;32m--> 526\u001b[0;31m         \u001b[0mresponse\u001b[0m \u001b[0;34m=\u001b[0m \u001b[0mself\u001b[0m\u001b[0;34m.\u001b[0m\u001b[0m_open\u001b[0m\u001b[0;34m(\u001b[0m\u001b[0mreq\u001b[0m\u001b[0;34m,\u001b[0m \u001b[0mdata\u001b[0m\u001b[0;34m)\u001b[0m\u001b[0;34m\u001b[0m\u001b[0m\n\u001b[0m\u001b[1;32m    527\u001b[0m \u001b[0;34m\u001b[0m\u001b[0m\n\u001b[1;32m    528\u001b[0m         \u001b[0;31m# post-process response\u001b[0m\u001b[0;34m\u001b[0m\u001b[0;34m\u001b[0m\u001b[0m\n",
      "\u001b[0;32m/Library/Frameworks/Python.framework/Versions/3.6/lib/python3.6/urllib/request.py\u001b[0m in \u001b[0;36m_open\u001b[0;34m(self, req, data)\u001b[0m\n\u001b[1;32m    542\u001b[0m         \u001b[0mprotocol\u001b[0m \u001b[0;34m=\u001b[0m \u001b[0mreq\u001b[0m\u001b[0;34m.\u001b[0m\u001b[0mtype\u001b[0m\u001b[0;34m\u001b[0m\u001b[0m\n\u001b[1;32m    543\u001b[0m         result = self._call_chain(self.handle_open, protocol, protocol +\n\u001b[0;32m--> 544\u001b[0;31m                                   '_open', req)\n\u001b[0m\u001b[1;32m    545\u001b[0m         \u001b[0;32mif\u001b[0m \u001b[0mresult\u001b[0m\u001b[0;34m:\u001b[0m\u001b[0;34m\u001b[0m\u001b[0m\n\u001b[1;32m    546\u001b[0m             \u001b[0;32mreturn\u001b[0m \u001b[0mresult\u001b[0m\u001b[0;34m\u001b[0m\u001b[0m\n",
      "\u001b[0;32m/Library/Frameworks/Python.framework/Versions/3.6/lib/python3.6/urllib/request.py\u001b[0m in \u001b[0;36m_call_chain\u001b[0;34m(self, chain, kind, meth_name, *args)\u001b[0m\n\u001b[1;32m    502\u001b[0m         \u001b[0;32mfor\u001b[0m \u001b[0mhandler\u001b[0m \u001b[0;32min\u001b[0m \u001b[0mhandlers\u001b[0m\u001b[0;34m:\u001b[0m\u001b[0;34m\u001b[0m\u001b[0m\n\u001b[1;32m    503\u001b[0m             \u001b[0mfunc\u001b[0m \u001b[0;34m=\u001b[0m \u001b[0mgetattr\u001b[0m\u001b[0;34m(\u001b[0m\u001b[0mhandler\u001b[0m\u001b[0;34m,\u001b[0m \u001b[0mmeth_name\u001b[0m\u001b[0;34m)\u001b[0m\u001b[0;34m\u001b[0m\u001b[0m\n\u001b[0;32m--> 504\u001b[0;31m             \u001b[0mresult\u001b[0m \u001b[0;34m=\u001b[0m \u001b[0mfunc\u001b[0m\u001b[0;34m(\u001b[0m\u001b[0;34m*\u001b[0m\u001b[0margs\u001b[0m\u001b[0;34m)\u001b[0m\u001b[0;34m\u001b[0m\u001b[0m\n\u001b[0m\u001b[1;32m    505\u001b[0m             \u001b[0;32mif\u001b[0m \u001b[0mresult\u001b[0m \u001b[0;32mis\u001b[0m \u001b[0;32mnot\u001b[0m \u001b[0;32mNone\u001b[0m\u001b[0;34m:\u001b[0m\u001b[0;34m\u001b[0m\u001b[0m\n\u001b[1;32m    506\u001b[0m                 \u001b[0;32mreturn\u001b[0m \u001b[0mresult\u001b[0m\u001b[0;34m\u001b[0m\u001b[0m\n",
      "\u001b[0;32m/Library/Frameworks/Python.framework/Versions/3.6/lib/python3.6/urllib/request.py\u001b[0m in \u001b[0;36mhttps_open\u001b[0;34m(self, req)\u001b[0m\n\u001b[1;32m   1359\u001b[0m         \u001b[0;32mdef\u001b[0m \u001b[0mhttps_open\u001b[0m\u001b[0;34m(\u001b[0m\u001b[0mself\u001b[0m\u001b[0;34m,\u001b[0m \u001b[0mreq\u001b[0m\u001b[0;34m)\u001b[0m\u001b[0;34m:\u001b[0m\u001b[0;34m\u001b[0m\u001b[0m\n\u001b[1;32m   1360\u001b[0m             return self.do_open(http.client.HTTPSConnection, req,\n\u001b[0;32m-> 1361\u001b[0;31m                 context=self._context, check_hostname=self._check_hostname)\n\u001b[0m\u001b[1;32m   1362\u001b[0m \u001b[0;34m\u001b[0m\u001b[0m\n\u001b[1;32m   1363\u001b[0m         \u001b[0mhttps_request\u001b[0m \u001b[0;34m=\u001b[0m \u001b[0mAbstractHTTPHandler\u001b[0m\u001b[0;34m.\u001b[0m\u001b[0mdo_request_\u001b[0m\u001b[0;34m\u001b[0m\u001b[0m\n",
      "\u001b[0;32m/Library/Frameworks/Python.framework/Versions/3.6/lib/python3.6/urllib/request.py\u001b[0m in \u001b[0;36mdo_open\u001b[0;34m(self, http_class, req, **http_conn_args)\u001b[0m\n\u001b[1;32m   1319\u001b[0m             \u001b[0;32mexcept\u001b[0m \u001b[0mOSError\u001b[0m \u001b[0;32mas\u001b[0m \u001b[0merr\u001b[0m\u001b[0;34m:\u001b[0m \u001b[0;31m# timeout error\u001b[0m\u001b[0;34m\u001b[0m\u001b[0m\n\u001b[1;32m   1320\u001b[0m                 \u001b[0;32mraise\u001b[0m \u001b[0mURLError\u001b[0m\u001b[0;34m(\u001b[0m\u001b[0merr\u001b[0m\u001b[0;34m)\u001b[0m\u001b[0;34m\u001b[0m\u001b[0m\n\u001b[0;32m-> 1321\u001b[0;31m             \u001b[0mr\u001b[0m \u001b[0;34m=\u001b[0m \u001b[0mh\u001b[0m\u001b[0;34m.\u001b[0m\u001b[0mgetresponse\u001b[0m\u001b[0;34m(\u001b[0m\u001b[0;34m)\u001b[0m\u001b[0;34m\u001b[0m\u001b[0m\n\u001b[0m\u001b[1;32m   1322\u001b[0m         \u001b[0;32mexcept\u001b[0m\u001b[0;34m:\u001b[0m\u001b[0;34m\u001b[0m\u001b[0m\n\u001b[1;32m   1323\u001b[0m             \u001b[0mh\u001b[0m\u001b[0;34m.\u001b[0m\u001b[0mclose\u001b[0m\u001b[0;34m(\u001b[0m\u001b[0;34m)\u001b[0m\u001b[0;34m\u001b[0m\u001b[0m\n",
      "\u001b[0;32m/Library/Frameworks/Python.framework/Versions/3.6/lib/python3.6/http/client.py\u001b[0m in \u001b[0;36mgetresponse\u001b[0;34m(self)\u001b[0m\n\u001b[1;32m   1329\u001b[0m         \u001b[0;32mtry\u001b[0m\u001b[0;34m:\u001b[0m\u001b[0;34m\u001b[0m\u001b[0m\n\u001b[1;32m   1330\u001b[0m             \u001b[0;32mtry\u001b[0m\u001b[0;34m:\u001b[0m\u001b[0;34m\u001b[0m\u001b[0m\n\u001b[0;32m-> 1331\u001b[0;31m                 \u001b[0mresponse\u001b[0m\u001b[0;34m.\u001b[0m\u001b[0mbegin\u001b[0m\u001b[0;34m(\u001b[0m\u001b[0;34m)\u001b[0m\u001b[0;34m\u001b[0m\u001b[0m\n\u001b[0m\u001b[1;32m   1332\u001b[0m             \u001b[0;32mexcept\u001b[0m \u001b[0mConnectionError\u001b[0m\u001b[0;34m:\u001b[0m\u001b[0;34m\u001b[0m\u001b[0m\n\u001b[1;32m   1333\u001b[0m                 \u001b[0mself\u001b[0m\u001b[0;34m.\u001b[0m\u001b[0mclose\u001b[0m\u001b[0;34m(\u001b[0m\u001b[0;34m)\u001b[0m\u001b[0;34m\u001b[0m\u001b[0m\n",
      "\u001b[0;32m/Library/Frameworks/Python.framework/Versions/3.6/lib/python3.6/http/client.py\u001b[0m in \u001b[0;36mbegin\u001b[0;34m(self)\u001b[0m\n\u001b[1;32m    295\u001b[0m         \u001b[0;31m# read until we get a non-100 response\u001b[0m\u001b[0;34m\u001b[0m\u001b[0;34m\u001b[0m\u001b[0m\n\u001b[1;32m    296\u001b[0m         \u001b[0;32mwhile\u001b[0m \u001b[0;32mTrue\u001b[0m\u001b[0;34m:\u001b[0m\u001b[0;34m\u001b[0m\u001b[0m\n\u001b[0;32m--> 297\u001b[0;31m             \u001b[0mversion\u001b[0m\u001b[0;34m,\u001b[0m \u001b[0mstatus\u001b[0m\u001b[0;34m,\u001b[0m \u001b[0mreason\u001b[0m \u001b[0;34m=\u001b[0m \u001b[0mself\u001b[0m\u001b[0;34m.\u001b[0m\u001b[0m_read_status\u001b[0m\u001b[0;34m(\u001b[0m\u001b[0;34m)\u001b[0m\u001b[0;34m\u001b[0m\u001b[0m\n\u001b[0m\u001b[1;32m    298\u001b[0m             \u001b[0;32mif\u001b[0m \u001b[0mstatus\u001b[0m \u001b[0;34m!=\u001b[0m \u001b[0mCONTINUE\u001b[0m\u001b[0;34m:\u001b[0m\u001b[0;34m\u001b[0m\u001b[0m\n\u001b[1;32m    299\u001b[0m                 \u001b[0;32mbreak\u001b[0m\u001b[0;34m\u001b[0m\u001b[0m\n",
      "\u001b[0;32m/Library/Frameworks/Python.framework/Versions/3.6/lib/python3.6/http/client.py\u001b[0m in \u001b[0;36m_read_status\u001b[0;34m(self)\u001b[0m\n\u001b[1;32m    264\u001b[0m             \u001b[0;31m# Presumably, the server closed the connection before\u001b[0m\u001b[0;34m\u001b[0m\u001b[0;34m\u001b[0m\u001b[0m\n\u001b[1;32m    265\u001b[0m             \u001b[0;31m# sending a valid response.\u001b[0m\u001b[0;34m\u001b[0m\u001b[0;34m\u001b[0m\u001b[0m\n\u001b[0;32m--> 266\u001b[0;31m             raise RemoteDisconnected(\"Remote end closed connection without\"\n\u001b[0m\u001b[1;32m    267\u001b[0m                                      \" response\")\n\u001b[1;32m    268\u001b[0m         \u001b[0;32mtry\u001b[0m\u001b[0;34m:\u001b[0m\u001b[0;34m\u001b[0m\u001b[0m\n",
      "\u001b[0;31mRemoteDisconnected\u001b[0m: Remote end closed connection without response"
     ]
    }
   ],
   "source": [
    "# get_corpus(\"https://www.azlyrics.com/d/drake.html\", \"lyrics/drake/\")\n",
    "get_corpus(\"https://www.azlyrics.com/c/cardi-b.html\", \"lyrics/cardi-b/\")\n",
    "get_corpus(\"https://www.azlyrics.com/j/jayz.html\", \"lyrics/jayz/\")\n"
   ]
  },
  {
   "cell_type": "code",
   "execution_count": 64,
   "metadata": {},
   "outputs": [
    {
     "name": "stdout",
     "output_type": "stream",
     "text": [
      "aBe3inmy3bonnet\n"
     ]
    }
   ],
   "source": []
  },
  {
   "cell_type": "code",
   "execution_count": null,
   "metadata": {},
   "outputs": [],
   "source": []
  }
 ],
 "metadata": {
  "kernelspec": {
   "display_name": "Python 3",
   "language": "python",
   "name": "python3"
  },
  "language_info": {
   "codemirror_mode": {
    "name": "ipython",
    "version": 3
   },
   "file_extension": ".py",
   "mimetype": "text/x-python",
   "name": "python",
   "nbconvert_exporter": "python",
   "pygments_lexer": "ipython3",
   "version": "3.6.3"
  }
 },
 "nbformat": 4,
 "nbformat_minor": 2
}
