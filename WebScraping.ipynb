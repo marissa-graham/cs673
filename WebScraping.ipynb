{
 "cells": [
  {
   "cell_type": "markdown",
   "metadata": {},
   "source": [
    "# Scraping the web for corpus data\n",
    "This notebook contains the code used to gather song lyrics for our corpus. \n",
    "\n",
    "Hamilton lyrics are sourced from http://www.themusicallyrics.com"
   ]
  },
  {
   "cell_type": "code",
   "execution_count": 112,
   "metadata": {
    "scrolled": false
   },
   "outputs": [],
   "source": [
    "from urllib.request import urlopen\n",
    "from bs4 import BeautifulSoup\n",
    "import re\n",
    "\n",
    "nonos = re.compile(\"[,'#--()]\")"
   ]
  },
  {
   "cell_type": "markdown",
   "metadata": {},
   "source": [
    "### Gathering Links for Hamilton Songs"
   ]
  },
  {
   "cell_type": "code",
   "execution_count": null,
   "metadata": {},
   "outputs": [],
   "source": [
    "BASE_URL = \"http://www.themusicallyrics.com\"\n",
    "\n",
    "conn = urlopen(\"http://www.themusicallyrics.com/h/351-hamilton-the-musical.html\")\n",
    "html = conn.read()\n",
    "soup = BeautifulSoup(html, \"html5lib\")\n",
    "\n",
    "# get links to lyrics for all songs\n",
    "\n",
    "body = soup.find(\"tbody\")\n",
    "tbody = body.find(\"tbody\") # lyrics are in nested tbody element\n",
    "links = tbody.findAll(\"a\")\n",
    "\n",
    "# write links to a file\n",
    "with open(\"hamilton-links\", \"w\") as hl:\n",
    "    for tag in links:\n",
    "        link = tag.get(\"href\")\n",
    "        if link is not None:\n",
    "            if link.startswith(\"/h/\") and \"synopsis\" not in link:\n",
    "                lyrics_page = BASE_URL + link\n",
    "                hl.write(lyrics_page + \"\\n\")"
   ]
  },
  {
   "cell_type": "markdown",
   "metadata": {},
   "source": [
    "### Parsing each link and scraping lyrics\n",
    "\n",
    "Note: the lyric files genereated below will still need to undergo some preprocessing before they're ready to be imported into the corpus"
   ]
  },
  {
   "cell_type": "code",
   "execution_count": 115,
   "metadata": {
    "scrolled": true
   },
   "outputs": [
    {
     "name": "stdout",
     "output_type": "stream",
     "text": [
      "lyrics/hamilton/raw/AlexanderHamilton.txt\n",
      "lyrics/hamilton/raw/AaronBurr,Sir.txt\n",
      "lyrics/hamilton/raw/MyShot.txt\n",
      "lyrics/hamilton/raw/TheStoryOfTonight.txt\n",
      "lyrics/hamilton/raw/TheSchuylerSisters.txt\n",
      "lyrics/hamilton/raw/FarmerRefuted.txt\n",
      "lyrics/hamilton/raw/You'llBeBack.txt\n",
      "lyrics/hamilton/raw/RightHandMan.txt\n",
      "lyrics/hamilton/raw/AWinter'sBall.txt\n",
      "lyrics/hamilton/raw/Helpless.txt\n",
      "lyrics/hamilton/raw/Satisfied.txt\n",
      "lyrics/hamilton/raw/TheStoryofTonight(Reprise).txt\n",
      "lyrics/hamilton/raw/WaitForIt.txt\n",
      "lyrics/hamilton/raw/StayAlive.txt\n",
      "lyrics/hamilton/raw/TenDuelCommandments.txt\n",
      "lyrics/hamilton/raw/MeetMeInside.txt\n",
      "lyrics/hamilton/raw/ThatWouldBeEnough.txt\n",
      "lyrics/hamilton/raw/GunsandShips.txt\n",
      "lyrics/hamilton/raw/HistoryHasItsEyesOnYou.txt\n",
      "lyrics/hamilton/raw/Yorktown(TheWorldTurnedUpsideDown).txt\n",
      "lyrics/hamilton/raw/WhatComesNext.txt\n",
      "lyrics/hamilton/raw/DearTheodosia.txt\n",
      "lyrics/hamilton/raw/Non-Stop.txt\n",
      "lyrics/hamilton/raw/What'dIMiss.txt\n",
      "lyrics/hamilton/raw/CabinetBattle#1.txt\n",
      "lyrics/hamilton/raw/TakeABreak.txt\n",
      "lyrics/hamilton/raw/SayNoToThis.txt\n",
      "lyrics/hamilton/raw/TheRoomWhereItHappens.txt\n",
      "lyrics/hamilton/raw/SchuylerDefeated.txt\n",
      "lyrics/hamilton/raw/CabinetBattle#2.txt\n",
      "lyrics/hamilton/raw/WashingtonOnYourSide.txt\n",
      "lyrics/hamilton/raw/OneLastTime.txt\n",
      "lyrics/hamilton/raw/IKnowHim.txt\n",
      "lyrics/hamilton/raw/TheAdamsAdministration.txt\n",
      "lyrics/hamilton/raw/WeKnow.txt\n",
      "lyrics/hamilton/raw/Hurricane.txt\n",
      "lyrics/hamilton/raw/TheReynoldsPamphlet.txt\n",
      "lyrics/hamilton/raw/Burn.txt\n",
      "lyrics/hamilton/raw/BlowUsAllAway.txt\n",
      "lyrics/hamilton/raw/StayAlive(Reprise).txt\n",
      "lyrics/hamilton/raw/It'sQuietUptown.txt\n",
      "lyrics/hamilton/raw/Electionof1800.txt\n",
      "lyrics/hamilton/raw/YourObedientServant.txt\n",
      "lyrics/hamilton/raw/BestofWivesandBestofWomen.txt\n",
      "lyrics/hamilton/raw/TheWorldWasWideEnough.txt\n",
      "lyrics/hamilton/raw/WhoLives,WhoDies,WhoTellsYourStory.txt\n",
      "lyrics/hamilton/raw/Congratulations.txt\n"
     ]
    }
   ],
   "source": [
    "# open links on by one and strip lyrics\n",
    "# I separated this step out to improve clarity\n",
    "with open(\"hamilton-links\", \"r\") as hlf:\n",
    "    for link in hlf:\n",
    "        conn = urlopen(link)\n",
    "        soup = BeautifulSoup(conn.read(), \"html5lib\")\n",
    "        title = soup.title.contents[0]\n",
    "        filename = \"lyrics/hamilton/raw/\"\n",
    "        filename += \"\".join(title.split()[2:-1])\n",
    "        filename += \".txt\"\n",
    "        filename = re.sub(nonos, \"\", filename)\n",
    "        p = soup.p\n",
    "        with open(filename, \"w\") as hll:\n",
    "            for item in p:\n",
    "                if type(item) == bs4.element.NavigableString:   \n",
    "                    hll.write(item + \"\\n\")"
   ]
  },
  {
   "cell_type": "code",
   "execution_count": null,
   "metadata": {},
   "outputs": [],
   "source": []
  }
 ],
 "metadata": {
  "kernelspec": {
   "display_name": "Python 3",
   "language": "python",
   "name": "python3"
  },
  "language_info": {
   "codemirror_mode": {
    "name": "ipython",
    "version": 3
   },
   "file_extension": ".py",
   "mimetype": "text/x-python",
   "name": "python",
   "nbconvert_exporter": "python",
   "pygments_lexer": "ipython3",
   "version": "3.5.2"
  }
 },
 "nbformat": 4,
 "nbformat_minor": 2
}
